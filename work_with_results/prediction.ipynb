{
 "cells": [
  {
   "cell_type": "code",
   "execution_count": 11,
   "outputs": [],
   "source": [
    "import os\n",
    "import json\n",
    "from tqdm.notebook import tqdm\n",
    "from PIL import Image\n",
    "from PIL import ImageDraw\n",
    "from PIL import ImageFont"
   ],
   "metadata": {
    "collapsed": false,
    "pycharm": {
     "name": "#%%\n"
    }
   }
  },
  {
   "cell_type": "code",
   "execution_count": 5,
   "outputs": [],
   "source": [
    "with open(\"C:\\\\Users\\\\Yulia\\\\Desktop\\\\carbs-count\\\\experiment_1\\\\prediction_results\\\\prediction_dict_prediction_exp_depth_resnet152_dish.json\") as json_file:\n",
    "    json_depth_test = json.load(json_file)"
   ],
   "metadata": {
    "collapsed": false,
    "pycharm": {
     "name": "#%%\n"
    }
   }
  },
  {
   "cell_type": "code",
   "execution_count": 7,
   "metadata": {
    "collapsed": true,
    "pycharm": {
     "name": "#%%\n"
    }
   },
   "outputs": [
    {
     "data": {
      "text/plain": "  0%|          | 0/507 [00:00<?, ?it/s]",
      "application/vnd.jupyter.widget-view+json": {
       "version_major": 2,
       "version_minor": 0,
       "model_id": "59ada6f6a1fe424d8984522181b95531"
      }
     },
     "metadata": {},
     "output_type": "display_data"
    }
   ],
   "source": [
    "list_dish = []\n",
    "for dish in tqdm(json_depth_test.keys()):\n",
    "    diff = float(list(json_depth_test[dish].keys())[0]) - float(list(json_depth_test[dish].values())[0])\n",
    "    if  abs(diff) <= 5:\n",
    "        list_dish.append(dish)\n"
   ]
  },
  {
   "cell_type": "code",
   "execution_count": 9,
   "outputs": [
    {
     "data": {
      "text/plain": "111"
     },
     "execution_count": 9,
     "metadata": {},
     "output_type": "execute_result"
    }
   ],
   "source": [
    "len(list_dish)"
   ],
   "metadata": {
    "collapsed": false,
    "pycharm": {
     "name": "#%%\n"
    }
   }
  },
  {
   "cell_type": "code",
   "execution_count": 56,
   "outputs": [
    {
     "data": {
      "text/plain": "  0%|          | 0/111 [00:00<?, ?it/s]",
      "application/vnd.jupyter.widget-view+json": {
       "version_major": 2,
       "version_minor": 0,
       "model_id": "61c2819058a3465688e8193b2283135c"
      }
     },
     "metadata": {},
     "output_type": "display_data"
    }
   ],
   "source": [
    "path = \"C:\\\\Users\\\\Yulia\\\\Desktop\\\\carbs-count\\\\images\\\\test_RGB\\\\\"\n",
    "path_to = \"C:\\\\Users\\\\Yulia\\\\Desktop\\\\carbs-count\\\\images\\\\img_with_results\\\\good\\\\\"\n",
    "for good_pred in tqdm(list_dish):\n",
    "    img = Image.open(path + good_pred + '.png')\n",
    "    I1 = ImageDraw.Draw(img)\n",
    "    myFont = ImageFont.truetype('arial/arial.ttf', 20)\n",
    "    prediction = round(json_depth_test[good_pred][list(json_depth_test[good_pred].keys())[0]], 2)\n",
    "    true_value = round(float(list(json_depth_test[good_pred].keys())[0]), 3)\n",
    "    diff = prediction - true_value\n",
    "    consequences = round(-1 * (diff * 2.77 ) / 10, 3)\n",
    "    I1.text((10, 10), f'Prediction: {prediction}g, {round(prediction / 10, 3)} BU', font=myFont, fill =(255, 255, 255), stroke_width=2, stroke_fill=(100, 100, 100))\n",
    "    I1.text((10, 40), f'True: {true_value}g, {round(true_value / 10, 3)} BU', font=myFont, fill =(255, 255, 255), stroke_width=2, stroke_fill=(100, 100, 100))\n",
    "    I1.text((10, 70), f'consequences: {consequences} mmol/l', font=myFont, fill =(255, 255, 255), stroke_width=2, stroke_fill=(100, 100, 100))\n",
    "    img.save(path_to + f'{good_pred}.png')\n"
   ],
   "metadata": {
    "collapsed": false,
    "pycharm": {
     "name": "#%%\n"
    }
   }
  },
  {
   "cell_type": "code",
   "execution_count": 57,
   "outputs": [],
   "source": [
    "list_dish_bad = []\n",
    "for dish in json_depth_test.keys():\n",
    "    diff = float(list(json_depth_test[dish].keys())[0]) - float(list(json_depth_test[dish].values())[0])\n",
    "    if  abs(diff) > 10:\n",
    "        list_dish_bad.append(dish)"
   ],
   "metadata": {
    "collapsed": false,
    "pycharm": {
     "name": "#%%\n"
    }
   }
  },
  {
   "cell_type": "code",
   "execution_count": 60,
   "outputs": [
    {
     "data": {
      "text/plain": "  0%|          | 0/290 [00:00<?, ?it/s]",
      "application/vnd.jupyter.widget-view+json": {
       "version_major": 2,
       "version_minor": 0,
       "model_id": "f3f9755251354a419c123411ae3c491f"
      }
     },
     "metadata": {},
     "output_type": "display_data"
    }
   ],
   "source": [
    "path = \"C:\\\\Users\\\\Yulia\\\\Desktop\\\\carbs-count\\\\images\\\\test_RGB\\\\\"\n",
    "path_to = \"C:\\\\Users\\\\Yulia\\\\Desktop\\\\carbs-count\\\\images\\\\img_with_results\\\\bad\\\\\"\n",
    "for bad_pred in tqdm(list_dish_bad):\n",
    "    img = Image.open(path + bad_pred + '.png')\n",
    "    I1 = ImageDraw.Draw(img)\n",
    "    myFont = ImageFont.truetype('arial/arial.ttf', 20)\n",
    "    prediction = round(json_depth_test[bad_pred][list(json_depth_test[bad_pred].keys())[0]], 2)\n",
    "    true_value = round(float(list(json_depth_test[bad_pred].keys())[0]), 3)\n",
    "    diff = prediction - true_value\n",
    "    consequences = round(-1 * (diff * 2.77 ) / 10, 3)\n",
    "    I1.text((10, 10), f'Prediction: {prediction}g, {round(prediction / 10, 3)} BU', font=myFont, fill =(255, 255, 255), stroke_width=2, stroke_fill=(100, 100, 100))\n",
    "    I1.text((10, 40), f'True: {true_value}g, {round(true_value / 10, 3)} BU', font=myFont, fill =(255, 255, 255), stroke_width=2, stroke_fill=(100, 100, 100))\n",
    "    I1.text((10, 70), f'consequences: {consequences} mmol/l', font=myFont, fill =(255, 255, 255), stroke_width=2, stroke_fill=(100, 100, 100))\n",
    "    img.save(path_to + f'{bad_pred}.png')"
   ],
   "metadata": {
    "collapsed": false,
    "pycharm": {
     "name": "#%%\n"
    }
   }
  }
 ],
 "metadata": {
  "kernelspec": {
   "display_name": "Python 3",
   "language": "python",
   "name": "python3"
  },
  "language_info": {
   "codemirror_mode": {
    "name": "ipython",
    "version": 2
   },
   "file_extension": ".py",
   "mimetype": "text/x-python",
   "name": "python",
   "nbconvert_exporter": "python",
   "pygments_lexer": "ipython2",
   "version": "2.7.6"
  }
 },
 "nbformat": 4,
 "nbformat_minor": 0
}