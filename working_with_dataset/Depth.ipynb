{
 "cells": [
  {
   "cell_type": "code",
   "execution_count": 10,
   "id": "3cdf5c0f",
   "metadata": {},
   "outputs": [],
   "source": [
    "import pandas as pd\n",
    "import glob\n",
    "import shutil\n",
    "import os\n",
    "from tqdm.notebook import tqdm\n",
    "import json\n",
    "from skimage import io\n",
    "from PIL import Image"
   ]
  },
  {
   "cell_type": "code",
   "execution_count": 18,
   "id": "e687d265",
   "metadata": {},
   "outputs": [],
   "source": [
    "path_to = 'C:\\\\Users\\\\Yulia\\\\Desktop\\\\Carbohydrate-counting\\\\images\\\\'\n",
    "path_from = 'C:\\\\Users\\\\Yulia\\\\Desktop\\\\diploma\\\\nutrition5k_dataset\\\\imagery\\\\realsense_overhead\\\\'"
   ]
  },
  {
   "cell_type": "code",
   "execution_count": 19,
   "id": "cd9115a5",
   "metadata": {},
   "outputs": [],
   "source": [
    "depth_test = \"C:\\\\Users\\\\Yulia\\\\Desktop\\\\Carbohydrate-counting\\\\working_with_dataset\\\\depth_test_ids.txt\"\n",
    "depth_train = \"C:\\\\Users\\\\Yulia\\\\Desktop\\\\Carbohydrate-counting\\\\working_with_dataset\\\\depth_train_ids.txt\""
   ]
  },
  {
   "cell_type": "code",
   "execution_count": 20,
   "id": "cb8f01a5",
   "metadata": {},
   "outputs": [],
   "source": [
    "data_depth_test = pd.read_csv(depth_test, header=None)\n",
    "data_depth_test_list = list(data_depth_test[0])\n",
    "data_depth_train = pd.read_csv(depth_train, header=None)\n",
    "data_depth_train_list = list(data_depth_train[0])"
   ]
  },
  {
   "cell_type": "code",
   "execution_count": 22,
   "id": "8193a6d8",
   "metadata": {},
   "outputs": [
    {
     "data": {
      "application/vnd.jupyter.widget-view+json": {
       "model_id": "24b690f965ac469fa244a85adf5f03d4",
       "version_major": 2,
       "version_minor": 0
      },
      "text/plain": [
       "  0%|          | 0/2758 [00:00<?, ?it/s]"
      ]
     },
     "metadata": {},
     "output_type": "display_data"
    },
    {
     "name": "stdout",
     "output_type": "stream",
     "text": [
      "dish_1558109714\n",
      "dish_1564159636\n",
      "dish_1557862384\n",
      "dish_1558109511\n"
     ]
    }
   ],
   "source": [
    "train_without_depth = []\n",
    "for dish in tqdm(data_depth_train_list):\n",
    "    try: \n",
    "        io.imread(path_from + str(dish) + '\\\\depth_raw.png')\n",
    "        io.imread(path_from + str(dish) + '\\\\rgb.png')\n",
    "        io.imread(path_from + str(dish) + '\\\\depth_color.png')\n",
    "        \n",
    "        location = path_from + str(dish) + '\\\\depth_color.png'\n",
    "        destination = path_to + 'train_depth\\\\' + str(dish) + '.png'\n",
    "        shutil.copyfile(location, destination)\n",
    "\n",
    "        location = path_from + str(dish) + '\\\\rgb.png'\n",
    "        destination = path_to + 'train_RGB\\\\' + str(dish) + '.png'\n",
    "        shutil.copyfile(location, destination)\n",
    "        \n",
    "        location = path_from + str(dish) + '\\\\depth_raw.png'\n",
    "        destination = path_to + 'train_raw\\\\' + str(dish) + '.png'\n",
    "        shutil.copyfile(location, destination)\n",
    "    except:\n",
    "        print(dish)\n",
    "        train_without_depth.append(dish)\n",
    "    \n",
    "    \n",
    "    "
   ]
  },
  {
   "cell_type": "code",
   "execution_count": 23,
   "id": "b23ebf9f",
   "metadata": {},
   "outputs": [
    {
     "data": {
      "application/vnd.jupyter.widget-view+json": {
       "model_id": "241b75a5890c4fe191319ad90a35badf",
       "version_major": 2,
       "version_minor": 0
      },
      "text/plain": [
       "  0%|          | 0/507 [00:00<?, ?it/s]"
      ]
     },
     "metadata": {},
     "output_type": "display_data"
    }
   ],
   "source": [
    "test_without_depth = []\n",
    "for dish in tqdm(data_depth_test_list):\n",
    "    try:\n",
    "        io.imread(path_from + str(dish) + '\\\\depth_raw.png')\n",
    "        io.imread(path_from + str(dish) + '\\\\rgb.png')\n",
    "        io.imread(path_from + str(dish) + '\\\\depth_color.png')\n",
    "        \n",
    "        location = path_from + str(dish) + '\\\\depth_color.png'\n",
    "        destination = path_to + 'test_depth\\\\' + str(dish) + '.png'\n",
    "        shutil.copyfile(location, destination)\n",
    "\n",
    "        location = path_from + str(dish) + '\\\\rgb.png'\n",
    "        destination = path_to + 'test_RGB\\\\' + str(dish) + '.png'\n",
    "        shutil.copyfile(location, destination)\n",
    "        \n",
    "        location = path_from + str(dish) + '\\\\depth_raw.png'\n",
    "        destination = path_to + 'test_raw\\\\' + str(dish) + '.png'\n",
    "        shutil.copyfile(location, destination)\n",
    "        \n",
    "    except:\n",
    "        print('dish')\n",
    "        test_without_depth.append(dish)"
   ]
  },
  {
   "cell_type": "code",
   "execution_count": 24,
   "id": "ad1d53ae",
   "metadata": {},
   "outputs": [
    {
     "data": {
      "text/html": [
       "<div>\n",
       "<style scoped>\n",
       "    .dataframe tbody tr th:only-of-type {\n",
       "        vertical-align: middle;\n",
       "    }\n",
       "\n",
       "    .dataframe tbody tr th {\n",
       "        vertical-align: top;\n",
       "    }\n",
       "\n",
       "    .dataframe thead th {\n",
       "        text-align: right;\n",
       "    }\n",
       "</style>\n",
       "<table border=\"1\" class=\"dataframe\">\n",
       "  <thead>\n",
       "    <tr style=\"text-align: right;\">\n",
       "      <th></th>\n",
       "      <th>Unnamed: 0</th>\n",
       "      <th>dish_id</th>\n",
       "      <th>total_calories</th>\n",
       "      <th>total_mass</th>\n",
       "      <th>total_fat</th>\n",
       "      <th>total_carb</th>\n",
       "      <th>total_protein</th>\n",
       "    </tr>\n",
       "  </thead>\n",
       "  <tbody>\n",
       "    <tr>\n",
       "      <th>0</th>\n",
       "      <td>0</td>\n",
       "      <td>dish_1561662216</td>\n",
       "      <td>300.794281</td>\n",
       "      <td>193.0</td>\n",
       "      <td>12.387489</td>\n",
       "      <td>28.218290</td>\n",
       "      <td>18.633970</td>\n",
       "    </tr>\n",
       "    <tr>\n",
       "      <th>1</th>\n",
       "      <td>1</td>\n",
       "      <td>dish_1562688426</td>\n",
       "      <td>137.569992</td>\n",
       "      <td>88.0</td>\n",
       "      <td>8.256000</td>\n",
       "      <td>5.190000</td>\n",
       "      <td>10.297000</td>\n",
       "    </tr>\n",
       "    <tr>\n",
       "      <th>2</th>\n",
       "      <td>2</td>\n",
       "      <td>dish_1561662054</td>\n",
       "      <td>419.438782</td>\n",
       "      <td>292.0</td>\n",
       "      <td>23.838249</td>\n",
       "      <td>26.351543</td>\n",
       "      <td>25.910593</td>\n",
       "    </tr>\n",
       "    <tr>\n",
       "      <th>3</th>\n",
       "      <td>3</td>\n",
       "      <td>dish_1562008979</td>\n",
       "      <td>382.936646</td>\n",
       "      <td>290.0</td>\n",
       "      <td>22.224644</td>\n",
       "      <td>10.173570</td>\n",
       "      <td>35.345387</td>\n",
       "    </tr>\n",
       "    <tr>\n",
       "      <th>4</th>\n",
       "      <td>4</td>\n",
       "      <td>dish_1560455030</td>\n",
       "      <td>20.590000</td>\n",
       "      <td>103.0</td>\n",
       "      <td>0.148000</td>\n",
       "      <td>4.625000</td>\n",
       "      <td>0.956000</td>\n",
       "    </tr>\n",
       "    <tr>\n",
       "      <th>...</th>\n",
       "      <td>...</td>\n",
       "      <td>...</td>\n",
       "      <td>...</td>\n",
       "      <td>...</td>\n",
       "      <td>...</td>\n",
       "      <td>...</td>\n",
       "      <td>...</td>\n",
       "    </tr>\n",
       "    <tr>\n",
       "      <th>5001</th>\n",
       "      <td>5001</td>\n",
       "      <td>dish_1571934465</td>\n",
       "      <td>0.000000</td>\n",
       "      <td>232.0</td>\n",
       "      <td>0.000000</td>\n",
       "      <td>18.559999</td>\n",
       "      <td>0.000000</td>\n",
       "    </tr>\n",
       "    <tr>\n",
       "      <th>5002</th>\n",
       "      <td>5002</td>\n",
       "      <td>dish_1573073666</td>\n",
       "      <td>0.000000</td>\n",
       "      <td>15.0</td>\n",
       "      <td>0.000000</td>\n",
       "      <td>1.157313</td>\n",
       "      <td>0.000000</td>\n",
       "    </tr>\n",
       "    <tr>\n",
       "      <th>5003</th>\n",
       "      <td>5003</td>\n",
       "      <td>dish_1575924356</td>\n",
       "      <td>0.000000</td>\n",
       "      <td>103.0</td>\n",
       "      <td>0.000000</td>\n",
       "      <td>25.544001</td>\n",
       "      <td>0.000000</td>\n",
       "    </tr>\n",
       "    <tr>\n",
       "      <th>5004</th>\n",
       "      <td>5004</td>\n",
       "      <td>dish_1574359199</td>\n",
       "      <td>0.000000</td>\n",
       "      <td>329.0</td>\n",
       "      <td>0.000000</td>\n",
       "      <td>39.015999</td>\n",
       "      <td>0.000000</td>\n",
       "    </tr>\n",
       "    <tr>\n",
       "      <th>5005</th>\n",
       "      <td>5005</td>\n",
       "      <td>dish_1576171157</td>\n",
       "      <td>0.000000</td>\n",
       "      <td>132.0</td>\n",
       "      <td>0.000000</td>\n",
       "      <td>8.609848</td>\n",
       "      <td>0.000000</td>\n",
       "    </tr>\n",
       "  </tbody>\n",
       "</table>\n",
       "<p>5006 rows × 7 columns</p>\n",
       "</div>"
      ],
      "text/plain": [
       "      Unnamed: 0          dish_id  total_calories  total_mass  total_fat  \\\n",
       "0              0  dish_1561662216      300.794281       193.0  12.387489   \n",
       "1              1  dish_1562688426      137.569992        88.0   8.256000   \n",
       "2              2  dish_1561662054      419.438782       292.0  23.838249   \n",
       "3              3  dish_1562008979      382.936646       290.0  22.224644   \n",
       "4              4  dish_1560455030       20.590000       103.0   0.148000   \n",
       "...          ...              ...             ...         ...        ...   \n",
       "5001        5001  dish_1571934465        0.000000       232.0   0.000000   \n",
       "5002        5002  dish_1573073666        0.000000        15.0   0.000000   \n",
       "5003        5003  dish_1575924356        0.000000       103.0   0.000000   \n",
       "5004        5004  dish_1574359199        0.000000       329.0   0.000000   \n",
       "5005        5005  dish_1576171157        0.000000       132.0   0.000000   \n",
       "\n",
       "      total_carb  total_protein  \n",
       "0      28.218290      18.633970  \n",
       "1       5.190000      10.297000  \n",
       "2      26.351543      25.910593  \n",
       "3      10.173570      35.345387  \n",
       "4       4.625000       0.956000  \n",
       "...          ...            ...  \n",
       "5001   18.559999       0.000000  \n",
       "5002    1.157313       0.000000  \n",
       "5003   25.544001       0.000000  \n",
       "5004   39.015999       0.000000  \n",
       "5005    8.609848       0.000000  \n",
       "\n",
       "[5006 rows x 7 columns]"
      ]
     },
     "execution_count": 24,
     "metadata": {},
     "output_type": "execute_result"
    }
   ],
   "source": [
    "full_carbs = \"C:\\\\Users\\\\Yulia\\\\Desktop\\\\diploma\\\\nutrition5k_dataset\\\\metadata\\\\full.csv\"\n",
    "full_carbs = pd.read_csv(full_carbs)\n",
    "full_carbs"
   ]
  },
  {
   "cell_type": "code",
   "execution_count": 25,
   "id": "d747d0cc",
   "metadata": {},
   "outputs": [
    {
     "data": {
      "text/plain": [
       "18.559999465942383"
      ]
     },
     "execution_count": 25,
     "metadata": {},
     "output_type": "execute_result"
    }
   ],
   "source": [
    "float(full_carbs[full_carbs['dish_id'] == 'dish_1571934465']['total_carb'])"
   ]
  },
  {
   "cell_type": "code",
   "execution_count": 26,
   "id": "7a1f29bf",
   "metadata": {},
   "outputs": [],
   "source": [
    "list_test = os.listdir(path_to + 'test_RGB')\n",
    "list_train = os.listdir(path_to + 'train_RGB')"
   ]
  },
  {
   "cell_type": "code",
   "execution_count": 27,
   "id": "9fec33ce",
   "metadata": {},
   "outputs": [
    {
     "data": {
      "text/plain": [
       "507"
      ]
     },
     "execution_count": 27,
     "metadata": {},
     "output_type": "execute_result"
    }
   ],
   "source": [
    "len(list_test)"
   ]
  },
  {
   "cell_type": "code",
   "execution_count": 28,
   "id": "ccf0ebe4",
   "metadata": {},
   "outputs": [
    {
     "data": {
      "text/plain": [
       "2754"
      ]
     },
     "execution_count": 28,
     "metadata": {},
     "output_type": "execute_result"
    }
   ],
   "source": [
    "len(list_train)"
   ]
  },
  {
   "cell_type": "code",
   "execution_count": 29,
   "id": "6706c50a",
   "metadata": {},
   "outputs": [],
   "source": [
    "json_depth_test = {}\n",
    "json_depth_train = {}\n",
    "\n",
    "for i in list_train:\n",
    "    json_depth_train[str(i.split('.')[0])] = float(full_carbs[full_carbs['dish_id'] == str(i.split('.')[0])]['total_carb'])\n",
    "    \n",
    "for i in list_test:\n",
    "    json_depth_test[str(i.split('.')[0])] = float(full_carbs[full_carbs['dish_id'] == str(i.split('.')[0])]['total_carb'])"
   ]
  },
  {
   "cell_type": "code",
   "execution_count": 30,
   "id": "769d2f81",
   "metadata": {},
   "outputs": [
    {
     "data": {
      "text/plain": [
       "2754"
      ]
     },
     "execution_count": 30,
     "metadata": {},
     "output_type": "execute_result"
    }
   ],
   "source": [
    "len(json_depth_train)"
   ]
  },
  {
   "cell_type": "code",
   "execution_count": 31,
   "id": "6ccfb385",
   "metadata": {},
   "outputs": [
    {
     "data": {
      "text/plain": [
       "507"
      ]
     },
     "execution_count": 31,
     "metadata": {},
     "output_type": "execute_result"
    }
   ],
   "source": [
    "len(json_depth_test)"
   ]
  },
  {
   "cell_type": "code",
   "execution_count": 32,
   "id": "8e03382c",
   "metadata": {},
   "outputs": [],
   "source": [
    "with open(path_to + 'json_depth_train.json', 'w') as fp:\n",
    "    json.dump(json_depth_train, fp)"
   ]
  },
  {
   "cell_type": "code",
   "execution_count": 33,
   "id": "34a9f68b",
   "metadata": {},
   "outputs": [],
   "source": [
    "with open(path_to + 'json_depth_test.json', 'w') as fp:\n",
    "    json.dump(json_depth_test, fp)"
   ]
  },
  {
   "cell_type": "markdown",
   "id": "5a3e5fc4",
   "metadata": {},
   "source": [
    "___"
   ]
  },
  {
   "cell_type": "code",
   "execution_count": 8,
   "id": "990e7048",
   "metadata": {},
   "outputs": [],
   "source": [
    "path_from = \"C:\\\\Users\\\\Yulia\\\\Desktop\\\\carbs-count\\\\images\\\\\""
   ]
  },
  {
   "cell_type": "code",
   "execution_count": 11,
   "id": "a8abe4cb",
   "metadata": {},
   "outputs": [
    {
     "data": {
      "application/vnd.jupyter.widget-view+json": {
       "model_id": "d3e0c5cd532440369c4649704f9c4416",
       "version_major": 2,
       "version_minor": 0
      },
      "text/plain": [
       "  0%|          | 0/2754 [00:00<?, ?it/s]"
      ]
     },
     "metadata": {},
     "output_type": "display_data"
    }
   ],
   "source": [
    "list_files = os.listdir(path=path_from + 'train_depth')\n",
    "\n",
    "for i in tqdm(list_files):\n",
    "    if '.png' in i:\n",
    "        im = Image.open(path_from + 'train_depth\\\\' + i)\n",
    "        rgb_im = im.convert('RGB')\n",
    "        os.remove(path_from + 'train_depth\\\\' + i)\n",
    "        rgb_im.save(path_from + 'train_depth\\\\' + i.split('.')[0] + '.jpeg')"
   ]
  },
  {
   "cell_type": "code",
   "execution_count": 12,
   "id": "5d3bf57e",
   "metadata": {},
   "outputs": [
    {
     "data": {
      "application/vnd.jupyter.widget-view+json": {
       "model_id": "a2212bf72de8447cb231e6ab6de34017",
       "version_major": 2,
       "version_minor": 0
      },
      "text/plain": [
       "  0%|          | 0/507 [00:00<?, ?it/s]"
      ]
     },
     "metadata": {},
     "output_type": "display_data"
    }
   ],
   "source": [
    "list_files = os.listdir(path=path_from + 'test_depth')\n",
    "\n",
    "for i in tqdm(list_files):\n",
    "    if '.png' in i:\n",
    "        im = Image.open(path_from + 'test_depth\\\\' + i)\n",
    "        rgb_im = im.convert('RGB')\n",
    "        os.remove(path_from + 'test_depth\\\\' + i)\n",
    "        rgb_im.save(path_from + 'test_depth\\\\' + i.split('.')[0] + '.jpeg')"
   ]
  }
 ],
 "metadata": {
  "kernelspec": {
   "display_name": "Python 3 (ipykernel)",
   "language": "python",
   "name": "python3"
  },
  "language_info": {
   "codemirror_mode": {
    "name": "ipython",
    "version": 3
   },
   "file_extension": ".py",
   "mimetype": "text/x-python",
   "name": "python",
   "nbconvert_exporter": "python",
   "pygments_lexer": "ipython3",
   "version": "3.9.12"
  }
 },
 "nbformat": 4,
 "nbformat_minor": 5
}
