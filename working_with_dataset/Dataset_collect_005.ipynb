{
 "cells": [
  {
   "cell_type": "code",
   "execution_count": null,
   "id": "79d317f9",
   "metadata": {
    "pycharm": {
     "name": "#%%\n"
    }
   },
   "outputs": [],
   "source": [
    "path_from = \"C:\\\\Users\\\\Yulia\\\\Desktop\\\\images\\\\\""
   ]
  },
  {
   "cell_type": "code",
   "execution_count": null,
   "id": "7d142ddb",
   "metadata": {
    "pycharm": {
     "name": "#%%\n"
    }
   },
   "outputs": [],
   "source": [
    "import shutil\n",
    "import os\n",
    "from tqdm.notebook import tqdm\n",
    "from PIL import Image"
   ]
  },
  {
   "cell_type": "code",
   "execution_count": null,
   "id": "d854a6da",
   "metadata": {
    "pycharm": {
     "name": "#%%\n"
    }
   },
   "outputs": [],
   "source": [
    "train_list = os.listdir(path=path_from + 'train')\n",
    "test_list = os.listdir(path=path_from + 'test')"
   ]
  },
  {
   "cell_type": "code",
   "execution_count": null,
   "id": "3443fbd3",
   "metadata": {
    "pycharm": {
     "name": "#%%\n"
    },
    "scrolled": true
   },
   "outputs": [],
   "source": [
    "for i in tqdm(range(len(train_list))):\n",
    "    if '005' in train_list[i].split('_')[-1]:\n",
    "        source  = path_from + 'train\\\\' + train_list[i]\n",
    "        destination = path_from + 'train_005\\\\' + train_list[i]\n",
    "        shutil.copy(source, destination)        "
   ]
  },
  {
   "cell_type": "code",
   "execution_count": null,
   "id": "c1d41081",
   "metadata": {
    "pycharm": {
     "name": "#%%\n"
    }
   },
   "outputs": [],
   "source": [
    "for i in tqdm(range(len(test_list))):\n",
    "    if '005' in test_list[i].split('_')[-1]:\n",
    "        source  = path_from + 'test\\\\' + test_list[i]\n",
    "        destination = path_from + 'test_005\\\\' + test_list[i]\n",
    "        shutil.copy(source, destination)"
   ]
  },
  {
   "cell_type": "markdown",
   "id": "a6564288",
   "metadata": {
    "pycharm": {
     "name": "#%% md\n"
    }
   },
   "source": [
    "Удаляем вручную плохие фотографии"
   ]
  },
  {
   "cell_type": "code",
   "execution_count": null,
   "id": "6d5f62d2",
   "metadata": {
    "pycharm": {
     "name": "#%%\n"
    }
   },
   "outputs": [],
   "source": [
    "train_005_list = os.listdir(path=path_from + 'train_005')\n",
    "test_005_list = os.listdir(path=path_from + 'test_005')"
   ]
  },
  {
   "cell_type": "code",
   "execution_count": null,
   "id": "2211066d",
   "metadata": {
    "pycharm": {
     "name": "#%%\n"
    }
   },
   "outputs": [],
   "source": [
    "train_rgb_list = os.listdir(path=path_from + 'train_RGB')\n",
    "test_rgb_list = os.listdir(path=path_from + 'test_RGB')"
   ]
  },
  {
   "cell_type": "code",
   "execution_count": null,
   "id": "1e08ab52",
   "metadata": {
    "pycharm": {
     "name": "#%%\n"
    }
   },
   "outputs": [],
   "source": [
    "common_list = []\n",
    "for i in tqdm(range(len(train_rgb_list))):\n",
    "    for j in range(len(train_005_list)):\n",
    "        if str('_'.join(train_005_list[j].split('_')[:2])) + '.png' == train_rgb_list[i]:\n",
    "            common_list.append(train_rgb_list[i])\n",
    "            "
   ]
  },
  {
   "cell_type": "code",
   "execution_count": null,
   "id": "002eaa5c",
   "metadata": {
    "pycharm": {
     "name": "#%%\n"
    }
   },
   "outputs": [],
   "source": [
    "common_list = list(set(common_list))"
   ]
  },
  {
   "cell_type": "code",
   "execution_count": null,
   "id": "fef20bf8",
   "metadata": {
    "pycharm": {
     "name": "#%%\n"
    }
   },
   "outputs": [],
   "source": [
    "len(common_list)"
   ]
  },
  {
   "cell_type": "code",
   "execution_count": null,
   "id": "4c4215f2",
   "metadata": {
    "pycharm": {
     "name": "#%%\n"
    }
   },
   "outputs": [],
   "source": [
    "for i in tqdm(range(len(common_list))):\n",
    "    source  = path_from + 'train_RGB\\\\' + common_list[i]\n",
    "    destination = path_from + 'train_005\\\\' + common_list[i]\n",
    "    shutil.copy(source, destination)        "
   ]
  },
  {
   "cell_type": "code",
   "execution_count": null,
   "id": "4c81ea42",
   "metadata": {
    "pycharm": {
     "name": "#%%\n"
    }
   },
   "outputs": [],
   "source": [
    "common_list_test = []\n",
    "for i in tqdm(range(len(test_rgb_list))):\n",
    "    for j in range(len(test_005_list)):\n",
    "        if str('_'.join(test_005_list[j].split('_')[:2])) + '.png' == test_rgb_list[i]:\n",
    "            common_list_test.append(test_rgb_list[i])\n",
    "            "
   ]
  },
  {
   "cell_type": "code",
   "execution_count": null,
   "id": "20fa2b58",
   "metadata": {
    "pycharm": {
     "name": "#%%\n"
    }
   },
   "outputs": [],
   "source": [
    "common_list_test = list(set(common_list_test))\n",
    "len(common_list_test)"
   ]
  },
  {
   "cell_type": "code",
   "execution_count": null,
   "id": "9664301d",
   "metadata": {
    "pycharm": {
     "name": "#%%\n"
    }
   },
   "outputs": [],
   "source": [
    "for i in tqdm(range(len(common_list_test))):\n",
    "    source  = path_from + 'test_RGB\\\\' + common_list_test[i]\n",
    "    destination = path_from + 'test_005\\\\' + common_list_test[i]\n",
    "    shutil.copy(source, destination) "
   ]
  },
  {
   "cell_type": "markdown",
   "id": "98e7e4ba",
   "metadata": {
    "pycharm": {
     "name": "#%% md\n"
    }
   },
   "source": [
    "Для карт глубины"
   ]
  },
  {
   "cell_type": "code",
   "execution_count": null,
   "id": "ce2dc034",
   "metadata": {
    "pycharm": {
     "name": "#%%\n"
    }
   },
   "outputs": [],
   "source": [
    "# common_list_depth = []\n",
    "# for i in tqdm(range(len(train_rgb_list))):\n",
    "#     for j in range(len(train_005_list)):\n",
    "#         if str('_'.join(train_005_list[j].split('_')[:2])) + '.png' == train_rgb_list[i]:\n",
    "#             common_list_depth.append(train_005_list[j])\n",
    "            \n",
    "# common_list_test_depth = []\n",
    "# for i in tqdm(range(len(test_rgb_list))):\n",
    "#     for j in range(len(test_005_list)):\n",
    "#         if str('_'.join(test_005_list[j].split('_')[:2])) + '.png' == test_rgb_list[i]:\n",
    "#             common_list_test_depth.append(test_005_list[i])\n",
    "            "
   ]
  },
  {
   "cell_type": "markdown",
   "id": "eed63d44",
   "metadata": {
    "pycharm": {
     "name": "#%% md\n"
    }
   },
   "source": [
    "json"
   ]
  },
  {
   "cell_type": "code",
   "execution_count": null,
   "id": "072ad7ba",
   "metadata": {
    "pycharm": {
     "name": "#%%\n"
    }
   },
   "outputs": [],
   "source": [
    "import pandas as pd"
   ]
  },
  {
   "cell_type": "code",
   "execution_count": null,
   "id": "703b0514",
   "metadata": {
    "pycharm": {
     "name": "#%%\n"
    }
   },
   "outputs": [],
   "source": [
    "csv_path = \"C:\\\\Users\\\\Yulia\\\\Desktop\\\\images\\\\full.csv\""
   ]
  },
  {
   "cell_type": "code",
   "execution_count": null,
   "id": "4d236679",
   "metadata": {
    "pycharm": {
     "name": "#%%\n"
    }
   },
   "outputs": [],
   "source": [
    "full = pd.read_csv(csv_path)\n",
    "full"
   ]
  },
  {
   "cell_type": "markdown",
   "id": "943f9d5d",
   "metadata": {
    "pycharm": {
     "name": "#%% md\n"
    }
   },
   "source": [
    "конвертируем png в jpeg"
   ]
  },
  {
   "cell_type": "code",
   "execution_count": null,
   "id": "5c103816",
   "metadata": {
    "pycharm": {
     "name": "#%%\n"
    }
   },
   "outputs": [],
   "source": [
    "list_files = os.listdir(path=path_from + 'train_005')\n",
    "\n",
    "for i in list_files:\n",
    "    if '.png' in i:\n",
    "        print(i)\n",
    "        im = Image.open(path_from + 'train_005\\\\' + i)\n",
    "        rgb_im = im.convert('RGB')\n",
    "        os.remove(path_from + 'train_005\\\\' + i)\n",
    "        rgb_im.save(path_from + 'train_005\\\\' + i.split('.')[0] + '.jpeg')\n",
    "        "
   ]
  },
  {
   "cell_type": "code",
   "execution_count": null,
   "id": "02b0f1d2",
   "metadata": {
    "pycharm": {
     "name": "#%%\n"
    }
   },
   "outputs": [],
   "source": [
    "list_files = os.listdir(path=path_from + 'test_005')\n",
    "\n",
    "for i in tqdm(list_files):\n",
    "    if '.png' in i:\n",
    "        im = Image.open(path_from + 'test_005\\\\' + i)\n",
    "        rgb_im = im.convert('RGB')\n",
    "        os.remove(path_from + 'test_005\\\\' + i)\n",
    "        rgb_im.save(path_from + 'test_005\\\\' + i.split('.')[0] + '.jpeg')"
   ]
  },
  {
   "cell_type": "code",
   "execution_count": null,
   "id": "ae498864",
   "metadata": {
    "pycharm": {
     "name": "#%%\n"
    }
   },
   "outputs": [],
   "source": [
    "train_005_new_list = os.listdir(path=path_from + 'train_005')\n",
    "test_005_new_list = os.listdir(path=path_from + 'test_005')"
   ]
  },
  {
   "cell_type": "code",
   "execution_count": null,
   "id": "deaf7a20",
   "metadata": {
    "pycharm": {
     "name": "#%%\n"
    }
   },
   "outputs": [],
   "source": [
    "full"
   ]
  },
  {
   "cell_type": "code",
   "execution_count": null,
   "id": "caada9ac",
   "metadata": {
    "pycharm": {
     "name": "#%%\n"
    }
   },
   "outputs": [],
   "source": [
    "len(train_005_new_list)"
   ]
  },
  {
   "cell_type": "code",
   "execution_count": null,
   "id": "47d735a0",
   "metadata": {
    "pycharm": {
     "name": "#%%\n"
    }
   },
   "outputs": [],
   "source": [
    "json_train_005 = {}\n",
    "for i in tqdm(range(len(train_005_new_list))):\n",
    "    try:\n",
    "        json_train_005[train_005_new_list[i]] = float(full[full['dish_id'] == '_'.join(train_005_new_list[i].split('_')[:2])]['total_carb'])\n",
    "    except:\n",
    "        print('_'.join(train_005_new_list[i].split('_')[:2]))\n",
    "        json_train_005[train_005_new_list[i]] = float(full[full['dish_id'] == train_005_new_list[i].split('.')[0]]['total_carb'])"
   ]
  },
  {
   "cell_type": "code",
   "execution_count": null,
   "id": "4381dfa8",
   "metadata": {
    "pycharm": {
     "name": "#%%\n"
    }
   },
   "outputs": [],
   "source": [
    "len(json_train_005)"
   ]
  },
  {
   "cell_type": "code",
   "execution_count": null,
   "id": "6c90fb8d",
   "metadata": {
    "pycharm": {
     "name": "#%%\n"
    }
   },
   "outputs": [],
   "source": [
    "from statistics import mean"
   ]
  },
  {
   "cell_type": "code",
   "execution_count": null,
   "id": "8eba262f",
   "metadata": {
    "pycharm": {
     "name": "#%%\n"
    }
   },
   "outputs": [],
   "source": [
    "mean(list(json_train_005.values()))"
   ]
  },
  {
   "cell_type": "code",
   "execution_count": null,
   "id": "6dfa2f37",
   "metadata": {
    "pycharm": {
     "name": "#%%\n"
    }
   },
   "outputs": [],
   "source": [
    "pd.DataFrame(list(json_train_005.values())).describe()"
   ]
  },
  {
   "cell_type": "code",
   "execution_count": null,
   "id": "fdc206fc",
   "metadata": {
    "pycharm": {
     "name": "#%%\n"
    }
   },
   "outputs": [],
   "source": [
    "json_test_005 = {}\n",
    "for i in tqdm(range(len(test_005_new_list))):\n",
    "    try:\n",
    "        json_test_005[test_005_new_list[i]] = float(full[full['dish_id'] == '_'.join(test_005_new_list[i].split('_')[:2])]['total_carb'])\n",
    "    except:\n",
    "        print('_'.join(test_005_new_list[i].split('_')[:2]))\n",
    "        json_test_005[test_005_new_list[i]] = float(full[full['dish_id'] == test_005_new_list[i].split('.')[0]]['total_carb'])"
   ]
  },
  {
   "cell_type": "code",
   "execution_count": null,
   "id": "24ed1d48",
   "metadata": {
    "pycharm": {
     "name": "#%%\n"
    }
   },
   "outputs": [],
   "source": [
    "len(json_test_005)"
   ]
  },
  {
   "cell_type": "code",
   "execution_count": null,
   "id": "1255b175",
   "metadata": {
    "pycharm": {
     "name": "#%%\n"
    }
   },
   "outputs": [],
   "source": [
    "pd.DataFrame(list(json_test_005.values())).describe()"
   ]
  },
  {
   "cell_type": "code",
   "execution_count": null,
   "id": "8c710d27",
   "metadata": {
    "pycharm": {
     "name": "#%%\n"
    }
   },
   "outputs": [],
   "source": [
    "import json"
   ]
  },
  {
   "cell_type": "code",
   "execution_count": null,
   "id": "49694242",
   "metadata": {
    "pycharm": {
     "name": "#%%\n"
    }
   },
   "outputs": [],
   "source": [
    "with open(path_from + 'json_train_005.json', 'w') as fp:\n",
    "    json.dump(json_train_005, fp)\n",
    "    \n",
    "with open(path_from + 'json_test_005.json', 'w') as fp:\n",
    "    json.dump(json_test_005, fp)"
   ]
  },
  {
   "cell_type": "markdown",
   "id": "4741c982",
   "metadata": {
    "pycharm": {
     "name": "#%% md\n"
    }
   },
   "source": [
    "____"
   ]
  },
  {
   "cell_type": "code",
   "execution_count": null,
   "id": "a0742200",
   "metadata": {
    "pycharm": {
     "name": "#%%\n"
    }
   },
   "outputs": [],
   "source": [
    "train_id = pd.read_csv(\"C:\\\\Users\\\\Yulia\\\\Desktop\\\\diploma\\\\nutrition5k_dataset\\\\dish_ids\\\\splits\\\\depth_train_ids.txt\", header=None)\n",
    "test_id = pd.read_csv(\"C:\\\\Users\\\\Yulia\\\\Desktop\\\\diploma\\\\nutrition5k_dataset\\\\dish_ids\\\\splits\\\\depth_test_ids.txt\", header=None)"
   ]
  },
  {
   "cell_type": "code",
   "execution_count": null,
   "id": "878ea89b",
   "metadata": {
    "pycharm": {
     "name": "#%%\n"
    }
   },
   "outputs": [],
   "source": [
    "train_id = list(train_id[0])\n",
    "test_id = list(test_id[0])"
   ]
  },
  {
   "cell_type": "code",
   "execution_count": null,
   "id": "55fb8c23",
   "metadata": {
    "pycharm": {
     "name": "#%%\n"
    }
   },
   "outputs": [],
   "source": [
    "for i in tqdm(train_005_new_list):\n",
    "    for j in train_id:\n",
    "        if j in i:\n",
    "            source  = path_from + 'train_005\\\\' + i\n",
    "            destination = path_from + 'train_rgb_depth\\\\' + i\n",
    "            shutil.copy(source, destination)"
   ]
  },
  {
   "cell_type": "code",
   "execution_count": null,
   "id": "4252ce11",
   "metadata": {
    "pycharm": {
     "name": "#%%\n"
    }
   },
   "outputs": [],
   "source": [
    "for i in tqdm(test_005_new_list):\n",
    "    for j in test_id:\n",
    "        if j in i:\n",
    "            source  = path_from + 'test_005\\\\' + i\n",
    "            destination = path_from + 'test_rgb_depth\\\\' + i\n",
    "            shutil.copy(source, destination)"
   ]
  },
  {
   "cell_type": "code",
   "execution_count": null,
   "id": "b9469d1b",
   "metadata": {
    "pycharm": {
     "name": "#%%\n"
    }
   },
   "outputs": [],
   "source": [
    "rgb_depth_list_train = os.listdir(path=path_from + 'train_rgb_depth')\n",
    "rgb_depth_list_test = os.listdir(path=path_from + 'test_rgb_depth')"
   ]
  },
  {
   "cell_type": "code",
   "execution_count": null,
   "id": "8c22266c",
   "metadata": {
    "pycharm": {
     "name": "#%%\n"
    }
   },
   "outputs": [],
   "source": [
    "len(rgb_depth_list_train)"
   ]
  },
  {
   "cell_type": "code",
   "execution_count": null,
   "id": "3d432309",
   "metadata": {
    "pycharm": {
     "name": "#%%\n"
    }
   },
   "outputs": [],
   "source": [
    "json_train_rgb_depth = {}\n",
    "for i in rgb_depth_list_train:\n",
    "    try:\n",
    "        json_train_rgb_depth[i] = float(full[full['dish_id'] == '_'.join(i.split('_')[:2])]['total_carb'])\n",
    "    except:\n",
    "        json_train_rgb_depth[i] = float(full[full['dish_id'] == i.split('.')[0]]['total_carb'])\n",
    "    \n",
    "json_test_rgb_depth = {}\n",
    "for i in rgb_depth_list_test:\n",
    "    try:\n",
    "        json_test_rgb_depth[i] = float(full[full['dish_id'] == '_'.join(i.split('_')[:2])]['total_carb'])\n",
    "    except:\n",
    "        json_test_rgb_depth[i] = float(full[full['dish_id'] == i.split('.')[0]]['total_carb'])\n",
    "    "
   ]
  },
  {
   "cell_type": "code",
   "execution_count": null,
   "id": "48495ced",
   "metadata": {
    "pycharm": {
     "name": "#%%\n"
    }
   },
   "outputs": [],
   "source": [
    "with open(path_from + 'json_train_rgb_depth.json', 'w') as fp:\n",
    "    json.dump(json_train_rgb_depth, fp)\n",
    "    \n",
    "with open(path_from + 'json_test_rgb_depth.json', 'w') as fp:\n",
    "    json.dump(json_test_rgb_depth, fp)"
   ]
  },
  {
   "cell_type": "code",
   "execution_count": null,
   "id": "cd0cc8f0",
   "metadata": {
    "pycharm": {
     "name": "#%%\n"
    }
   },
   "outputs": [],
   "source": [
    "len(json_test_rgb_depth)"
   ]
  },
  {
   "cell_type": "code",
   "execution_count": null,
   "id": "fd4d493e",
   "metadata": {
    "pycharm": {
     "name": "#%%\n"
    }
   },
   "outputs": [],
   "source": [
    "len(json_train_rgb_depth)"
   ]
  }
 ],
 "metadata": {
  "kernelspec": {
   "display_name": "Python 3 (ipykernel)",
   "language": "python",
   "name": "python3"
  },
  "language_info": {
   "codemirror_mode": {
    "name": "ipython",
    "version": 3
   },
   "file_extension": ".py",
   "mimetype": "text/x-python",
   "name": "python",
   "nbconvert_exporter": "python",
   "pygments_lexer": "ipython3",
   "version": "3.9.12"
  }
 },
 "nbformat": 4,
 "nbformat_minor": 5
}