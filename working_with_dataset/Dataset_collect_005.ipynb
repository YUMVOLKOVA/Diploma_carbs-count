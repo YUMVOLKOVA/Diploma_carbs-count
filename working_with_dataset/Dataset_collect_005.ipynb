{
 "cells": [
  {
   "cell_type": "code",
   "execution_count": null,
   "id": "79d317f9",
   "metadata": {
    "pycharm": {
     "name": "#%%\n"
    }
   },
   "outputs": [],
   "source": [
    "path_from = \"C:\\\\Users\\\\Yulia\\\\Desktop\\\\images\\\\\""
   ]
  },
  {
   "cell_type": "code",
   "execution_count": null,
   "id": "7d142ddb",
   "metadata": {
    "pycharm": {
     "name": "#%%\n"
    }
   },
   "outputs": [],
   "source": [
    "import shutil\n",
    "import os\n",
    "from tqdm.notebook import tqdm\n",
    "from PIL import Image"
   ]
  },
  {
   "cell_type": "code",
   "execution_count": null,
   "id": "d854a6da",
   "metadata": {
    "pycharm": {
     "name": "#%%\n"
    }
   },
   "outputs": [],
   "source": [
    "train_list = os.listdir(path=path_from + 'train')\n",
    "test_list = os.listdir(path=path_from + 'test')"
   ]
  },
  {
   "cell_type": "code",
   "execution_count": null,
   "id": "3443fbd3",
   "metadata": {
    "pycharm": {
     "name": "#%%\n"
    },
    "scrolled": true
   },
   "outputs": [],
   "source": [
    "for i in tqdm(range(len(train_list))):\n",
    "    if '005' in train_list[i].split('_')[-1]:\n",
    "        source  = path_from + 'train\\\\' + train_list[i]\n",
    "        destination = path_from + 'train_005\\\\' + train_list[i]\n",
    "        shutil.copy(source, destination)        "
   ]
  },
  {
   "cell_type": "code",
   "execution_count": null,
   "id": "c1d41081",
   "metadata": {
    "pycharm": {
     "name": "#%%\n"
    }
   },
   "outputs": [],
   "source": [
    "for i in tqdm(range(len(test_list))):\n",
    "    if '005' in test_list[i].split('_')[-1]:\n",
    "        source  = path_from + 'test\\\\' + test_list[i]\n",
    "        destination = path_from + 'test_005\\\\' + test_list[i]\n",
    "        shutil.copy(source, destination)"
   ]
  },
  {
   "cell_type": "markdown",
   "id": "a6564288",
   "metadata": {
    "pycharm": {
     "name": "#%% md\n"
    }
   },
   "source": [
    "Удаляем вручную плохие фотографии"
   ]
  },
  {
   "cell_type": "code",
   "execution_count": null,
   "id": "6d5f62d2",
   "metadata": {
    "pycharm": {
     "name": "#%%\n"
    }
   },
   "outputs": [],
   "source": [
    "train_005_list = os.listdir(path=path_from + 'train_005')\n",
    "test_005_list = os.listdir(path=path_from + 'test_005')"
   ]
  },
  {
   "cell_type": "code",
   "execution_count": null,
   "id": "2211066d",
   "metadata": {
    "pycharm": {
     "name": "#%%\n"
    }
   },
   "outputs": [],
   "source": [
    "train_rgb_list = os.listdir(path=path_from + 'train_RGB')\n",
    "test_rgb_list = os.listdir(path=path_from + 'test_RGB')"
   ]
  },
  {
   "cell_type": "code",
   "execution_count": null,
   "id": "1e08ab52",
   "metadata": {
    "pycharm": {
     "name": "#%%\n"
    }
   },
   "outputs": [],
   "source": [
    "common_list = []\n",
    "for i in tqdm(range(len(train_rgb_list))):\n",
    "    for j in range(len(train_005_list)):\n",
    "        if str('_'.join(train_005_list[j].split('_')[:2])) + '.png' == train_rgb_list[i]:\n",
    "            common_list.append(train_rgb_list[i])\n",
    "            "
   ]
  },
  {
   "cell_type": "code",
   "execution_count": null,
   "id": "002eaa5c",
   "metadata": {
    "pycharm": {
     "name": "#%%\n"
    }
   },
   "outputs": [],
   "source": [
    "common_list = list(set(common_list))"
   ]
  },
  {
   "cell_type": "code",
   "execution_count": null,
   "id": "fef20bf8",
   "metadata": {
    "pycharm": {
     "name": "#%%\n"
    }
   },
   "outputs": [],
   "source": [
    "len(common_list)"
   ]
  },
  {
   "cell_type": "code",
   "execution_count": null,
   "id": "4c4215f2",
   "metadata": {
    "pycharm": {
     "name": "#%%\n"
    }
   },
   "outputs": [],
   "source": [
    "for i in tqdm(range(len(common_list))):\n",
    "    source  = path_from + 'train_RGB\\\\' + common_list[i]\n",
    "    destination = path_from + 'train_005\\\\' + common_list[i]\n",
    "    shutil.copy(source, destination)        "
   ]
  },
  {
   "cell_type": "code",
   "execution_count": null,
   "id": "4c81ea42",
   "metadata": {
    "pycharm": {
     "name": "#%%\n"
    }
   },
   "outputs": [],
   "source": [
    "common_list_test = []\n",
    "for i in tqdm(range(len(test_rgb_list))):\n",
    "    for j in range(len(test_005_list)):\n",
    "        if str('_'.join(test_005_list[j].split('_')[:2])) + '.png' == test_rgb_list[i]:\n",
    "            common_list_test.append(test_rgb_list[i])\n",
    "            "
   ]
  },
  {
   "cell_type": "code",
   "execution_count": null,
   "id": "20fa2b58",
   "metadata": {
    "pycharm": {
     "name": "#%%\n"
    }
   },
   "outputs": [],
   "source": [
    "common_list_test = list(set(common_list_test))\n",
    "len(common_list_test)"
   ]
  },
  {
   "cell_type": "code",
   "execution_count": null,
   "id": "9664301d",
   "metadata": {
    "pycharm": {
     "name": "#%%\n"
    }
   },
   "outputs": [],
   "source": [
    "for i in tqdm(range(len(common_list_test))):\n",
    "    source  = path_from + 'test_RGB\\\\' + common_list_test[i]\n",
    "    destination = path_from + 'test_005\\\\' + common_list_test[i]\n",
    "    shutil.copy(source, destination) "
   ]
  },
  {
   "cell_type": "markdown",
   "id": "98e7e4ba",
   "metadata": {
    "pycharm": {
     "name": "#%% md\n"
    }
   },
   "source": [
    "Для карт глубины"
   ]
  },
  {
   "cell_type": "code",
   "execution_count": null,
   "id": "ce2dc034",
   "metadata": {
    "pycharm": {
     "name": "#%%\n"
    }
   },
   "outputs": [],
   "source": [
    "# common_list_depth = []\n",
    "# for i in tqdm(range(len(train_rgb_list))):\n",
    "#     for j in range(len(train_005_list)):\n",
    "#         if str('_'.join(train_005_list[j].split('_')[:2])) + '.png' == train_rgb_list[i]:\n",
    "#             common_list_depth.append(train_005_list[j])\n",
    "            \n",
    "# common_list_test_depth = []\n",
    "# for i in tqdm(range(len(test_rgb_list))):\n",
    "#     for j in range(len(test_005_list)):\n",
    "#         if str('_'.join(test_005_list[j].split('_')[:2])) + '.png' == test_rgb_list[i]:\n",
    "#             common_list_test_depth.append(test_005_list[i])\n",
    "            "
   ]
  },
  {
   "cell_type": "markdown",
   "id": "eed63d44",
   "metadata": {
    "pycharm": {
     "name": "#%% md\n"
    }
   },
   "source": [
    "json"
   ]
  },
  {
   "cell_type": "code",
   "execution_count": 26,
   "id": "072ad7ba",
   "metadata": {
    "pycharm": {
     "name": "#%%\n"
    }
   },
   "outputs": [],
   "source": [
    "import pandas as pd"
   ]
  },
  {
   "cell_type": "code",
   "execution_count": 27,
   "id": "703b0514",
   "metadata": {
    "pycharm": {
     "name": "#%%\n"
    }
   },
   "outputs": [],
   "source": [
    "csv_path = \"C:\\\\Users\\\\Yulia\\\\Desktop\\\\carbs-count\\\\images\\\\full.csv\""
   ]
  },
  {
   "cell_type": "code",
   "execution_count": 28,
   "id": "4d236679",
   "metadata": {
    "pycharm": {
     "name": "#%%\n"
    }
   },
   "outputs": [
    {
     "data": {
      "text/html": [
       "<div>\n",
       "<style scoped>\n",
       "    .dataframe tbody tr th:only-of-type {\n",
       "        vertical-align: middle;\n",
       "    }\n",
       "\n",
       "    .dataframe tbody tr th {\n",
       "        vertical-align: top;\n",
       "    }\n",
       "\n",
       "    .dataframe thead th {\n",
       "        text-align: right;\n",
       "    }\n",
       "</style>\n",
       "<table border=\"1\" class=\"dataframe\">\n",
       "  <thead>\n",
       "    <tr style=\"text-align: right;\">\n",
       "      <th></th>\n",
       "      <th>Unnamed: 0</th>\n",
       "      <th>dish_id</th>\n",
       "      <th>total_calories</th>\n",
       "      <th>total_mass</th>\n",
       "      <th>total_fat</th>\n",
       "      <th>total_carb</th>\n",
       "      <th>total_protein</th>\n",
       "    </tr>\n",
       "  </thead>\n",
       "  <tbody>\n",
       "    <tr>\n",
       "      <th>0</th>\n",
       "      <td>0</td>\n",
       "      <td>dish_1561662216</td>\n",
       "      <td>300.794281</td>\n",
       "      <td>193.0</td>\n",
       "      <td>12.387489</td>\n",
       "      <td>28.218290</td>\n",
       "      <td>18.633970</td>\n",
       "    </tr>\n",
       "    <tr>\n",
       "      <th>1</th>\n",
       "      <td>1</td>\n",
       "      <td>dish_1562688426</td>\n",
       "      <td>137.569992</td>\n",
       "      <td>88.0</td>\n",
       "      <td>8.256000</td>\n",
       "      <td>5.190000</td>\n",
       "      <td>10.297000</td>\n",
       "    </tr>\n",
       "    <tr>\n",
       "      <th>2</th>\n",
       "      <td>2</td>\n",
       "      <td>dish_1561662054</td>\n",
       "      <td>419.438782</td>\n",
       "      <td>292.0</td>\n",
       "      <td>23.838249</td>\n",
       "      <td>26.351543</td>\n",
       "      <td>25.910593</td>\n",
       "    </tr>\n",
       "    <tr>\n",
       "      <th>3</th>\n",
       "      <td>3</td>\n",
       "      <td>dish_1562008979</td>\n",
       "      <td>382.936646</td>\n",
       "      <td>290.0</td>\n",
       "      <td>22.224644</td>\n",
       "      <td>10.173570</td>\n",
       "      <td>35.345387</td>\n",
       "    </tr>\n",
       "    <tr>\n",
       "      <th>4</th>\n",
       "      <td>4</td>\n",
       "      <td>dish_1560455030</td>\n",
       "      <td>20.590000</td>\n",
       "      <td>103.0</td>\n",
       "      <td>0.148000</td>\n",
       "      <td>4.625000</td>\n",
       "      <td>0.956000</td>\n",
       "    </tr>\n",
       "    <tr>\n",
       "      <th>...</th>\n",
       "      <td>...</td>\n",
       "      <td>...</td>\n",
       "      <td>...</td>\n",
       "      <td>...</td>\n",
       "      <td>...</td>\n",
       "      <td>...</td>\n",
       "      <td>...</td>\n",
       "    </tr>\n",
       "    <tr>\n",
       "      <th>5001</th>\n",
       "      <td>5001</td>\n",
       "      <td>dish_1571934465</td>\n",
       "      <td>0.000000</td>\n",
       "      <td>232.0</td>\n",
       "      <td>0.000000</td>\n",
       "      <td>18.559999</td>\n",
       "      <td>0.000000</td>\n",
       "    </tr>\n",
       "    <tr>\n",
       "      <th>5002</th>\n",
       "      <td>5002</td>\n",
       "      <td>dish_1573073666</td>\n",
       "      <td>0.000000</td>\n",
       "      <td>15.0</td>\n",
       "      <td>0.000000</td>\n",
       "      <td>1.157313</td>\n",
       "      <td>0.000000</td>\n",
       "    </tr>\n",
       "    <tr>\n",
       "      <th>5003</th>\n",
       "      <td>5003</td>\n",
       "      <td>dish_1575924356</td>\n",
       "      <td>0.000000</td>\n",
       "      <td>103.0</td>\n",
       "      <td>0.000000</td>\n",
       "      <td>25.544001</td>\n",
       "      <td>0.000000</td>\n",
       "    </tr>\n",
       "    <tr>\n",
       "      <th>5004</th>\n",
       "      <td>5004</td>\n",
       "      <td>dish_1574359199</td>\n",
       "      <td>0.000000</td>\n",
       "      <td>329.0</td>\n",
       "      <td>0.000000</td>\n",
       "      <td>39.015999</td>\n",
       "      <td>0.000000</td>\n",
       "    </tr>\n",
       "    <tr>\n",
       "      <th>5005</th>\n",
       "      <td>5005</td>\n",
       "      <td>dish_1576171157</td>\n",
       "      <td>0.000000</td>\n",
       "      <td>132.0</td>\n",
       "      <td>0.000000</td>\n",
       "      <td>8.609848</td>\n",
       "      <td>0.000000</td>\n",
       "    </tr>\n",
       "  </tbody>\n",
       "</table>\n",
       "<p>5006 rows × 7 columns</p>\n",
       "</div>"
      ],
      "text/plain": [
       "      Unnamed: 0          dish_id  total_calories  total_mass  total_fat  \\\n",
       "0              0  dish_1561662216      300.794281       193.0  12.387489   \n",
       "1              1  dish_1562688426      137.569992        88.0   8.256000   \n",
       "2              2  dish_1561662054      419.438782       292.0  23.838249   \n",
       "3              3  dish_1562008979      382.936646       290.0  22.224644   \n",
       "4              4  dish_1560455030       20.590000       103.0   0.148000   \n",
       "...          ...              ...             ...         ...        ...   \n",
       "5001        5001  dish_1571934465        0.000000       232.0   0.000000   \n",
       "5002        5002  dish_1573073666        0.000000        15.0   0.000000   \n",
       "5003        5003  dish_1575924356        0.000000       103.0   0.000000   \n",
       "5004        5004  dish_1574359199        0.000000       329.0   0.000000   \n",
       "5005        5005  dish_1576171157        0.000000       132.0   0.000000   \n",
       "\n",
       "      total_carb  total_protein  \n",
       "0      28.218290      18.633970  \n",
       "1       5.190000      10.297000  \n",
       "2      26.351543      25.910593  \n",
       "3      10.173570      35.345387  \n",
       "4       4.625000       0.956000  \n",
       "...          ...            ...  \n",
       "5001   18.559999       0.000000  \n",
       "5002    1.157313       0.000000  \n",
       "5003   25.544001       0.000000  \n",
       "5004   39.015999       0.000000  \n",
       "5005    8.609848       0.000000  \n",
       "\n",
       "[5006 rows x 7 columns]"
      ]
     },
     "execution_count": 28,
     "metadata": {},
     "output_type": "execute_result"
    }
   ],
   "source": [
    "full = pd.read_csv(csv_path)\n",
    "full"
   ]
  },
  {
   "cell_type": "markdown",
   "id": "943f9d5d",
   "metadata": {
    "pycharm": {
     "name": "#%% md\n"
    }
   },
   "source": [
    "конвертируем png в jpeg"
   ]
  },
  {
   "cell_type": "code",
   "execution_count": null,
   "id": "5c103816",
   "metadata": {
    "pycharm": {
     "name": "#%%\n"
    }
   },
   "outputs": [],
   "source": [
    "list_files = os.listdir(path=path_from + 'train_005')\n",
    "\n",
    "for i in list_files:\n",
    "    if '.png' in i:\n",
    "        print(i)\n",
    "        im = Image.open(path_from + 'train_005\\\\' + i)\n",
    "        rgb_im = im.convert('RGB')\n",
    "        os.remove(path_from + 'train_005\\\\' + i)\n",
    "        rgb_im.save(path_from + 'train_005\\\\' + i.split('.')[0] + '.jpeg')\n",
    "        "
   ]
  },
  {
   "cell_type": "code",
   "execution_count": null,
   "id": "02b0f1d2",
   "metadata": {
    "pycharm": {
     "name": "#%%\n"
    }
   },
   "outputs": [],
   "source": [
    "list_files = os.listdir(path=path_from + 'test_005')\n",
    "\n",
    "for i in tqdm(list_files):\n",
    "    if '.png' in i:\n",
    "        im = Image.open(path_from + 'test_005\\\\' + i)\n",
    "        rgb_im = im.convert('RGB')\n",
    "        os.remove(path_from + 'test_005\\\\' + i)\n",
    "        rgb_im.save(path_from + 'test_005\\\\' + i.split('.')[0] + '.jpeg')"
   ]
  },
  {
   "cell_type": "code",
   "execution_count": null,
   "id": "ae498864",
   "metadata": {
    "pycharm": {
     "name": "#%%\n"
    }
   },
   "outputs": [],
   "source": [
    "train_005_new_list = os.listdir(path=path_from + 'train_005')\n",
    "test_005_new_list = os.listdir(path=path_from + 'test_005')"
   ]
  },
  {
   "cell_type": "code",
   "execution_count": null,
   "id": "deaf7a20",
   "metadata": {
    "pycharm": {
     "name": "#%%\n"
    }
   },
   "outputs": [],
   "source": [
    "full"
   ]
  },
  {
   "cell_type": "code",
   "execution_count": null,
   "id": "caada9ac",
   "metadata": {
    "pycharm": {
     "name": "#%%\n"
    }
   },
   "outputs": [],
   "source": [
    "len(train_005_new_list)"
   ]
  },
  {
   "cell_type": "code",
   "execution_count": null,
   "id": "47d735a0",
   "metadata": {
    "pycharm": {
     "name": "#%%\n"
    }
   },
   "outputs": [],
   "source": [
    "json_train_005 = {}\n",
    "for i in tqdm(range(len(train_005_new_list))):\n",
    "    try:\n",
    "        json_train_005[train_005_new_list[i]] = float(full[full['dish_id'] == '_'.join(train_005_new_list[i].split('_')[:2])]['total_carb'])\n",
    "    except:\n",
    "        print('_'.join(train_005_new_list[i].split('_')[:2]))\n",
    "        json_train_005[train_005_new_list[i]] = float(full[full['dish_id'] == train_005_new_list[i].split('.')[0]]['total_carb'])"
   ]
  },
  {
   "cell_type": "code",
   "execution_count": null,
   "id": "4381dfa8",
   "metadata": {
    "pycharm": {
     "name": "#%%\n"
    }
   },
   "outputs": [],
   "source": [
    "len(json_train_005)"
   ]
  },
  {
   "cell_type": "code",
   "execution_count": null,
   "id": "6c90fb8d",
   "metadata": {
    "pycharm": {
     "name": "#%%\n"
    }
   },
   "outputs": [],
   "source": [
    "from statistics import mean"
   ]
  },
  {
   "cell_type": "code",
   "execution_count": null,
   "id": "8eba262f",
   "metadata": {
    "pycharm": {
     "name": "#%%\n"
    }
   },
   "outputs": [],
   "source": [
    "mean(list(json_train_005.values()))"
   ]
  },
  {
   "cell_type": "code",
   "execution_count": null,
   "id": "6dfa2f37",
   "metadata": {
    "pycharm": {
     "name": "#%%\n"
    }
   },
   "outputs": [],
   "source": [
    "pd.DataFrame(list(json_train_005.values())).describe()"
   ]
  },
  {
   "cell_type": "code",
   "execution_count": null,
   "id": "fdc206fc",
   "metadata": {
    "pycharm": {
     "name": "#%%\n"
    }
   },
   "outputs": [],
   "source": [
    "json_test_005 = {}\n",
    "for i in tqdm(range(len(test_005_new_list))):\n",
    "    try:\n",
    "        json_test_005[test_005_new_list[i]] = float(full[full['dish_id'] == '_'.join(test_005_new_list[i].split('_')[:2])]['total_carb'])\n",
    "    except:\n",
    "        print('_'.join(test_005_new_list[i].split('_')[:2]))\n",
    "        json_test_005[test_005_new_list[i]] = float(full[full['dish_id'] == test_005_new_list[i].split('.')[0]]['total_carb'])"
   ]
  },
  {
   "cell_type": "code",
   "execution_count": null,
   "id": "24ed1d48",
   "metadata": {
    "pycharm": {
     "name": "#%%\n"
    }
   },
   "outputs": [],
   "source": [
    "len(json_test_005)"
   ]
  },
  {
   "cell_type": "code",
   "execution_count": null,
   "id": "1255b175",
   "metadata": {
    "pycharm": {
     "name": "#%%\n"
    }
   },
   "outputs": [],
   "source": [
    "pd.DataFrame(list(json_test_005.values())).describe()"
   ]
  },
  {
   "cell_type": "code",
   "execution_count": null,
   "id": "8c710d27",
   "metadata": {
    "pycharm": {
     "name": "#%%\n"
    }
   },
   "outputs": [],
   "source": [
    "import json"
   ]
  },
  {
   "cell_type": "code",
   "execution_count": null,
   "id": "49694242",
   "metadata": {
    "pycharm": {
     "name": "#%%\n"
    }
   },
   "outputs": [],
   "source": [
    "with open(path_from + 'json_train_005.json', 'w') as fp:\n",
    "    json.dump(json_train_005, fp)\n",
    "    \n",
    "with open(path_from + 'json_test_005.json', 'w') as fp:\n",
    "    json.dump(json_test_005, fp)"
   ]
  },
  {
   "cell_type": "markdown",
   "id": "4741c982",
   "metadata": {
    "pycharm": {
     "name": "#%% md\n"
    }
   },
   "source": [
    "____"
   ]
  },
  {
   "cell_type": "code",
   "execution_count": null,
   "id": "a0742200",
   "metadata": {
    "pycharm": {
     "name": "#%%\n"
    }
   },
   "outputs": [],
   "source": [
    "train_id = pd.read_csv(\"C:\\\\Users\\\\Yulia\\\\Desktop\\\\diploma\\\\nutrition5k_dataset\\\\dish_ids\\\\splits\\\\depth_train_ids.txt\", header=None)\n",
    "test_id = pd.read_csv(\"C:\\\\Users\\\\Yulia\\\\Desktop\\\\diploma\\\\nutrition5k_dataset\\\\dish_ids\\\\splits\\\\depth_test_ids.txt\", header=None)"
   ]
  },
  {
   "cell_type": "code",
   "execution_count": null,
   "id": "878ea89b",
   "metadata": {
    "pycharm": {
     "name": "#%%\n"
    }
   },
   "outputs": [],
   "source": [
    "train_id = list(train_id[0])\n",
    "test_id = list(test_id[0])"
   ]
  },
  {
   "cell_type": "code",
   "execution_count": null,
   "id": "55fb8c23",
   "metadata": {
    "pycharm": {
     "name": "#%%\n"
    }
   },
   "outputs": [],
   "source": [
    "for i in tqdm(train_005_new_list):\n",
    "    for j in train_id:\n",
    "        if j in i:\n",
    "            source  = path_from + 'train_005\\\\' + i\n",
    "            destination = path_from + 'train_rgb_depth\\\\' + i\n",
    "            shutil.copy(source, destination)"
   ]
  },
  {
   "cell_type": "code",
   "execution_count": null,
   "id": "4252ce11",
   "metadata": {
    "pycharm": {
     "name": "#%%\n"
    }
   },
   "outputs": [],
   "source": [
    "for i in tqdm(test_005_new_list):\n",
    "    for j in test_id:\n",
    "        if j in i:\n",
    "            source  = path_from + 'test_005\\\\' + i\n",
    "            destination = path_from + 'test_rgb_depth\\\\' + i\n",
    "            shutil.copy(source, destination)"
   ]
  },
  {
   "cell_type": "code",
   "execution_count": 24,
   "id": "b9469d1b",
   "metadata": {
    "pycharm": {
     "name": "#%%\n"
    }
   },
   "outputs": [],
   "source": [
    "rgb_depth_list_train = os.listdir(\"C:\\\\Users\\\\Yulia\\\\Desktop\\\\carbs-count\\\\images\\\\train_rgb_depth\")\n",
    "rgb_depth_list_test = os.listdir(\"C:\\\\Users\\\\Yulia\\\\Desktop\\\\carbs-count\\\\images\\\\test_rgb_depth\")"
   ]
  },
  {
   "cell_type": "code",
   "execution_count": 25,
   "id": "8c22266c",
   "metadata": {
    "pycharm": {
     "name": "#%%\n"
    }
   },
   "outputs": [
    {
     "data": {
      "text/plain": [
       "12516"
      ]
     },
     "execution_count": 25,
     "metadata": {},
     "output_type": "execute_result"
    }
   ],
   "source": [
    "len(rgb_depth_list_train)"
   ]
  },
  {
   "cell_type": "code",
   "execution_count": 16,
   "id": "3d432309",
   "metadata": {
    "pycharm": {
     "name": "#%%\n"
    }
   },
   "outputs": [],
   "source": [
    "json_train_rgb_depth = {}\n",
    "for i in rgb_depth_list_train:\n",
    "    try:\n",
    "        json_train_rgb_depth[i] = float(full[full['dish_id'] == '_'.join(i.split('_')[:2])]['total_carb'])\n",
    "    except:\n",
    "        json_train_rgb_depth[i] = float(full[full['dish_id'] == i.split('.')[0]]['total_carb'])\n",
    "    \n",
    "json_test_rgb_depth = {}\n",
    "for i in rgb_depth_list_test:\n",
    "    try:\n",
    "        json_test_rgb_depth[i] = float(full[full['dish_id'] == '_'.join(i.split('_')[:2])]['total_carb'])\n",
    "    except:\n",
    "        json_test_rgb_depth[i] = float(full[full['dish_id'] == i.split('.')[0]]['total_carb'])\n",
    "    "
   ]
  },
  {
   "cell_type": "code",
   "execution_count": null,
   "id": "0d28ea9f",
   "metadata": {},
   "outputs": [],
   "source": [
    "json_train_rgb_depth_extra = {}\n",
    "for i in rgb_depth_list_train:\n",
    "    try:\n",
    "        json_train_rgb_depth_extra[i] = float(full[full['dish_id'] == '_'.join(i.split('_')[:2])]['total_carb'])\n",
    "    except:\n",
    "        json_train_rgb_depth[i] = float(full[full['dish_id'] == i.split('.')[0]]['total_carb'])\n",
    "    \n",
    "json_test_rgb_depth = {}\n",
    "for i in rgb_depth_list_test:\n",
    "    try:\n",
    "        json_test_rgb_depth[i] = float(full[full['dish_id'] == '_'.join(i.split('_')[:2])]['total_carb'])\n",
    "    except:\n",
    "        json_test_rgb_depth[i] = float(full[full['dish_id'] == i.split('.')[0]]['total_carb'])\n",
    "    "
   ]
  },
  {
   "cell_type": "code",
   "execution_count": 19,
   "id": "e2f585b2",
   "metadata": {},
   "outputs": [],
   "source": [
    "import json"
   ]
  },
  {
   "cell_type": "code",
   "execution_count": 20,
   "id": "48495ced",
   "metadata": {
    "pycharm": {
     "name": "#%%\n"
    }
   },
   "outputs": [],
   "source": [
    "with open('C:\\\\Users\\\\Yulia\\\\Desktop\\\\carbs-count\\\\images\\\\json_train_rgb_depth.json', 'w') as fp:\n",
    "    json.dump(json_train_rgb_depth, fp)\n",
    "    \n",
    "with open('C:\\\\Users\\\\Yulia\\\\Desktop\\\\carbs-count\\\\images\\\\json_test_rgb_depth.json', 'w') as fp:\n",
    "    json.dump(json_test_rgb_depth, fp)"
   ]
  },
  {
   "cell_type": "code",
   "execution_count": 21,
   "id": "cd0cc8f0",
   "metadata": {
    "pycharm": {
     "name": "#%%\n"
    }
   },
   "outputs": [
    {
     "data": {
      "text/plain": [
       "2260"
      ]
     },
     "execution_count": 21,
     "metadata": {},
     "output_type": "execute_result"
    }
   ],
   "source": [
    "len(json_test_rgb_depth)"
   ]
  },
  {
   "cell_type": "code",
   "execution_count": 22,
   "id": "fd4d493e",
   "metadata": {
    "pycharm": {
     "name": "#%%\n"
    }
   },
   "outputs": [
    {
     "data": {
      "text/plain": [
       "12516"
      ]
     },
     "execution_count": 22,
     "metadata": {},
     "output_type": "execute_result"
    }
   ],
   "source": [
    "len(json_train_rgb_depth)"
   ]
  },
  {
   "cell_type": "code",
   "execution_count": 23,
   "id": "cfc48e3e",
   "metadata": {},
   "outputs": [],
   "source": [
    "import shutil\n",
    "import os\n",
    "from tqdm.notebook import tqdm\n",
    "from PIL import Image"
   ]
  },
  {
   "cell_type": "code",
   "execution_count": 2,
   "id": "beabff34",
   "metadata": {},
   "outputs": [],
   "source": [
    "list_of_files_rgb_depth_train = os.listdir(\"C:\\\\Users\\\\Yulia\\\\Desktop\\\\carbs-count\\\\images\\\\train_rgb_depth\")\n",
    "list_of_files_rgb_depth_test = os.listdir(\"C:\\\\Users\\\\Yulia\\\\Desktop\\\\carbs-count\\\\images\\\\test_rgb_depth\")\n",
    "list_raw_train = os.listdir(\"C:\\\\Users\\\\Yulia\\\\Desktop\\\\carbs-count\\\\images\\\\train_raw\")\n",
    "list_raw_test = os.listdir(\"C:\\\\Users\\\\Yulia\\\\Desktop\\\\carbs-count\\\\images\\\\test_raw\")"
   ]
  },
  {
   "cell_type": "code",
   "execution_count": 7,
   "id": "ea665075",
   "metadata": {},
   "outputs": [
    {
     "data": {
      "application/vnd.jupyter.widget-view+json": {
       "model_id": "09181148c3b44d6a9c5d3fd08afb7ddd",
       "version_major": 2,
       "version_minor": 0
      },
      "text/plain": [
       "  0%|          | 0/12530 [00:00<?, ?it/s]"
      ]
     },
     "metadata": {},
     "output_type": "display_data"
    }
   ],
   "source": [
    "\n",
    "for i in tqdm(list_of_files_rgb_depth_train):\n",
    "    flag = False\n",
    "    for j in list_raw_train:\n",
    "        if '_'.join(i.split('.')[0].split('_')[:2]) == j.split('.')[0]:\n",
    "            flag = True\n",
    "    if flag == False:\n",
    "        os.remove(\"C:\\\\Users\\\\Yulia\\\\Desktop\\\\carbs-count\\\\images\\\\train_rgb_depth\\\\\" + i)"
   ]
  },
  {
   "cell_type": "code",
   "execution_count": 8,
   "id": "1855b054",
   "metadata": {},
   "outputs": [
    {
     "data": {
      "application/vnd.jupyter.widget-view+json": {
       "model_id": "6f495a978e4c4d3a9014f42083442e80",
       "version_major": 2,
       "version_minor": 0
      },
      "text/plain": [
       "  0%|          | 0/2260 [00:00<?, ?it/s]"
      ]
     },
     "metadata": {},
     "output_type": "display_data"
    }
   ],
   "source": [
    "for i in tqdm(list_of_files_rgb_depth_test):\n",
    "    flag = False\n",
    "    for j in list_raw_test:\n",
    "        if '_'.join(i.split('.')[0].split('_')[:2]) == j.split('.')[0]:\n",
    "            flag = True\n",
    "    if flag == False:\n",
    "        os.remove(\"C:\\\\Users\\\\Yulia\\\\Desktop\\\\carbs-count\\\\images\\\\test_rgb_depth\" + i)"
   ]
  }
 ],
 "metadata": {
  "kernelspec": {
   "display_name": "Python 3 (ipykernel)",
   "language": "python",
   "name": "python3"
  },
  "language_info": {
   "codemirror_mode": {
    "name": "ipython",
    "version": 3
   },
   "file_extension": ".py",
   "mimetype": "text/x-python",
   "name": "python",
   "nbconvert_exporter": "python",
   "pygments_lexer": "ipython3",
   "version": "3.9.12"
  }
 },
 "nbformat": 4,
 "nbformat_minor": 5
}
