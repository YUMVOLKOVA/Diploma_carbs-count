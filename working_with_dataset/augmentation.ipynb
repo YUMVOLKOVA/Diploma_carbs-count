{
 "cells": [
  {
   "cell_type": "code",
   "execution_count": 1,
   "id": "09a46d69",
   "metadata": {
    "pycharm": {
     "name": "#%%\n"
    }
   },
   "outputs": [],
   "source": [
    "import os\n",
    "from torchvision import transforms\n",
    "import torch\n",
    "from skimage import io\n",
    "from tqdm.notebook import tqdm\n",
    "import pandas as pd\n",
    "import json\n",
    "import numpy as np"
   ]
  },
  {
   "cell_type": "code",
   "execution_count": 3,
   "id": "21e2d060",
   "metadata": {
    "pycharm": {
     "name": "#%%\n"
    }
   },
   "outputs": [],
   "source": [
    "path_raw = \"C:\\\\Users\\\\Yulia\\\\Desktop\\\\carbs-count\\\\images\\\\test_raw\""
   ]
  },
  {
   "cell_type": "code",
   "execution_count": 4,
   "id": "eac420b1",
   "metadata": {
    "pycharm": {
     "name": "#%%\n"
    }
   },
   "outputs": [],
   "source": [
    "transformation = transforms.Compose([transforms.ToPILImage()])\n",
    "for i in os.listdir(path_raw):\n",
    "    image_raw = io.imread(path_raw + '\\\\' + i)\n",
    "    t = transformation(image_raw.astype(np.uint8))\n",
    "    t.save(path_raw + '_norm\\\\' + i)"
   ]
  },
  {
   "cell_type": "code",
   "execution_count": 2,
   "id": "74b6f98f",
   "metadata": {
    "pycharm": {
     "name": "#%%\n"
    }
   },
   "outputs": [],
   "source": [
    "path_rgb = \"C:\\\\Users\\\\Yulia\\\\Desktop\\\\carbs-count\\\\images\\\\train_RGB\"\n",
    "path_color = \"C:\\\\Users\\\\Yulia\\\\Desktop\\\\carbs-count\\\\images\\\\train_depth\"\n",
    "path_raw = \"C:\\\\Users\\\\Yulia\\\\Desktop\\\\carbs-count\\\\images\\\\train_raw\""
   ]
  },
  {
   "cell_type": "code",
   "execution_count": 2,
   "id": "9cd4c68f",
   "metadata": {
    "pycharm": {
     "name": "#%%\n"
    }
   },
   "outputs": [],
   "source": [
    "path_rgb_aug = \"C:\\\\Users\\\\Yulia\\\\Desktop\\\\carbs-count\\\\images\\\\train_RGB_aug\"\n",
    "path_color_aug = \"C:\\\\Users\\\\Yulia\\\\Desktop\\\\carbs-count\\\\images\\\\train_depth_aug\"\n",
    "path_raw_aug = \"C:\\\\Users\\\\Yulia\\\\Desktop\\\\carbs-count\\\\images\\\\train_raw_aug\""
   ]
  },
  {
   "cell_type": "code",
   "execution_count": 5,
   "id": "2dab33df",
   "metadata": {
    "pycharm": {
     "name": "#%%\n"
    }
   },
   "outputs": [],
   "source": [
    "with open(\"C:\\\\Users\\\\Yulia\\\\Desktop\\\\carbs-count\\\\images\\\\json_depth_train.json\") as json_file:\n",
    "    json_depth_train = json.load(json_file)"
   ]
  },
  {
   "cell_type": "code",
   "execution_count": 6,
   "id": "794409be",
   "metadata": {
    "pycharm": {
     "name": "#%%\n"
    }
   },
   "outputs": [
    {
     "data": {
      "text/plain": [
       "2753"
      ]
     },
     "execution_count": 6,
     "metadata": {},
     "output_type": "execute_result"
    }
   ],
   "source": [
    "len(json_depth_train)"
   ]
  },
  {
   "cell_type": "code",
   "execution_count": 37,
   "id": "bfb8b6c7",
   "metadata": {
    "pycharm": {
     "name": "#%%\n"
    }
   },
   "outputs": [],
   "source": [
    "df_json = pd.DataFrame({'dish': json_depth_train.keys(), 'carb': json_depth_train.values()})"
   ]
  },
  {
   "cell_type": "code",
   "execution_count": 41,
   "id": "3841e595",
   "metadata": {
    "pycharm": {
     "name": "#%%\n"
    }
   },
   "outputs": [
    {
     "data": {
      "text/html": [
       "<div>\n",
       "<style scoped>\n",
       "    .dataframe tbody tr th:only-of-type {\n",
       "        vertical-align: middle;\n",
       "    }\n",
       "\n",
       "    .dataframe tbody tr th {\n",
       "        vertical-align: top;\n",
       "    }\n",
       "\n",
       "    .dataframe thead th {\n",
       "        text-align: right;\n",
       "    }\n",
       "</style>\n",
       "<table border=\"1\" class=\"dataframe\">\n",
       "  <thead>\n",
       "    <tr style=\"text-align: right;\">\n",
       "      <th></th>\n",
       "      <th>dish</th>\n",
       "      <th>carb</th>\n",
       "    </tr>\n",
       "  </thead>\n",
       "  <tbody>\n",
       "    <tr>\n",
       "      <th>0</th>\n",
       "      <td>dish_1556572657</td>\n",
       "      <td>2.268000</td>\n",
       "    </tr>\n",
       "    <tr>\n",
       "      <th>1</th>\n",
       "      <td>dish_1556573514</td>\n",
       "      <td>1.219000</td>\n",
       "    </tr>\n",
       "    <tr>\n",
       "      <th>2</th>\n",
       "      <td>dish_1556575014</td>\n",
       "      <td>3.906000</td>\n",
       "    </tr>\n",
       "    <tr>\n",
       "      <th>3</th>\n",
       "      <td>dish_1556575083</td>\n",
       "      <td>5.760000</td>\n",
       "    </tr>\n",
       "    <tr>\n",
       "      <th>4</th>\n",
       "      <td>dish_1556575124</td>\n",
       "      <td>0.952000</td>\n",
       "    </tr>\n",
       "    <tr>\n",
       "      <th>...</th>\n",
       "      <td>...</td>\n",
       "      <td>...</td>\n",
       "    </tr>\n",
       "    <tr>\n",
       "      <th>2748</th>\n",
       "      <td>dish_1568666230</td>\n",
       "      <td>10.969999</td>\n",
       "    </tr>\n",
       "    <tr>\n",
       "      <th>2749</th>\n",
       "      <td>dish_1568666263</td>\n",
       "      <td>19.770000</td>\n",
       "    </tr>\n",
       "    <tr>\n",
       "      <th>2750</th>\n",
       "      <td>dish_1568666303</td>\n",
       "      <td>19.770000</td>\n",
       "    </tr>\n",
       "    <tr>\n",
       "      <th>2751</th>\n",
       "      <td>dish_1568666329</td>\n",
       "      <td>19.770000</td>\n",
       "    </tr>\n",
       "    <tr>\n",
       "      <th>2752</th>\n",
       "      <td>dish_1568666357</td>\n",
       "      <td>21.300001</td>\n",
       "    </tr>\n",
       "  </tbody>\n",
       "</table>\n",
       "<p>2753 rows × 2 columns</p>\n",
       "</div>"
      ],
      "text/plain": [
       "                 dish       carb\n",
       "0     dish_1556572657   2.268000\n",
       "1     dish_1556573514   1.219000\n",
       "2     dish_1556575014   3.906000\n",
       "3     dish_1556575083   5.760000\n",
       "4     dish_1556575124   0.952000\n",
       "...               ...        ...\n",
       "2748  dish_1568666230  10.969999\n",
       "2749  dish_1568666263  19.770000\n",
       "2750  dish_1568666303  19.770000\n",
       "2751  dish_1568666329  19.770000\n",
       "2752  dish_1568666357  21.300001\n",
       "\n",
       "[2753 rows x 2 columns]"
      ]
     },
     "execution_count": 41,
     "metadata": {},
     "output_type": "execute_result"
    }
   ],
   "source": [
    "df_json"
   ]
  },
  {
   "cell_type": "code",
   "execution_count": 45,
   "id": "ad96bb71",
   "metadata": {
    "pycharm": {
     "name": "#%%\n"
    }
   },
   "outputs": [
    {
     "data": {
      "text/plain": [
       "2.268"
      ]
     },
     "execution_count": 45,
     "metadata": {},
     "output_type": "execute_result"
    }
   ],
   "source": [
    "float(df_json[df_json['dish'] == 'dish_1556572657']['carb'][0])"
   ]
  },
  {
   "cell_type": "code",
   "execution_count": 51,
   "id": "31bdfb8f",
   "metadata": {
    "pycharm": {
     "name": "#%%\n"
    }
   },
   "outputs": [
    {
     "data": {
      "application/vnd.jupyter.widget-view+json": {
       "model_id": "1133dbd45ae1436fb81a2870ab8f6c6f",
       "version_major": 2,
       "version_minor": 0
      },
      "text/plain": [
       "  0%|          | 0/2753 [00:00<?, ?it/s]"
      ]
     },
     "metadata": {},
     "output_type": "display_data"
    }
   ],
   "source": [
    "transformation = transforms.Compose([transforms.ToPILImage()])\n",
    "\n",
    "for i in tqdm(os.listdir(path_rgb)):\n",
    "    \n",
    "    image_rgb = io.imread(path_rgb + '\\\\' + i)\n",
    "    transformed_vflip = transforms.functional.vflip(transformation(image_rgb))\n",
    "    transformed_vflip.save(path_rgb_aug + '\\\\' + i.split('.')[0] + '_vflip.png')\n",
    "    \n",
    "    image_color = io.imread(path_color + '\\\\' + i.split('.')[0] + '.jpeg')\n",
    "    transformed_vflip = transforms.functional.vflip(transformation(image_color))\n",
    "    transformed_vflip.save(path_color_aug + '\\\\' + i.split('.')[0] + '_vflip.jpeg')\n",
    "    \n",
    "    image_raw = io.imread(path_raw + '\\\\' + i)\n",
    "    transformed_vflip = transforms.functional.vflip(transformation(image_raw.astype(np.uint8)))\n",
    "    transformed_vflip.save(path_raw_aug + '\\\\' + i.split('.')[0] + '_vflip.png')\n",
    "    \n",
    "    \n",
    "    \n",
    "    transformed_rotate = transforms.functional.rotate(transformation(image_rgb), angle=45)\n",
    "    transformed_rotate.save(path_rgb_aug + '\\\\' + i.split('.')[0] + '_rotate.png')\n",
    "    \n",
    "    transformed_rotate = transforms.functional.rotate(transformation(image_color), angle=45)\n",
    "    transformed_rotate.save(path_color_aug + '\\\\' + i.split('.')[0] + '_rotate.jpeg')\n",
    "    \n",
    "    transformed_rotate = transforms.functional.rotate(transformation(image_raw.astype(np.uint8)), angle=45)\n",
    "    transformed_rotate.save(path_raw_aug + '\\\\' + i.split('.')[0] + '_rotate.png')   \n",
    "    \n",
    "    \n",
    "    \n",
    "    transformed_hflip_rgb = transforms.functional.hflip(transformation(image_rgb))\n",
    "    transformed_hflip_rgb.save(path_rgb_aug + '\\\\' + i.split('.')[0] + '_hflip.png')\n",
    "    \n",
    "    transformed_hflip_color = transforms.functional.hflip(transformation(image_color))\n",
    "    transformed_hflip_color.save(path_color_aug + '\\\\' + i.split('.')[0] + '_hflip.jpeg')\n",
    "    \n",
    "    transformed_hflip_raw = transforms.functional.hflip(transformation(image_raw.astype(np.uint8)))\n",
    "    transformed_hflip_raw.save(path_raw_aug + '\\\\' + i.split('.')[0] + '_hflip.png')\n",
    "    \n",
    "    \n",
    "    \n",
    "    transformed_hflip_rotate = transforms.functional.rotate(transformed_hflip_rgb, angle=60)\n",
    "    transformed_hflip_rotate.save(path_rgb_aug + '\\\\' + i.split('.')[0] + '_hflip_rotate.png')\n",
    "    \n",
    "    transformed_hflip_rotate = transforms.functional.rotate(transformed_hflip_color, angle=60)\n",
    "    transformed_hflip_rotate.save(path_color_aug + '\\\\' + i.split('.')[0] + '_hflip_rotate.jpeg')\n",
    "    \n",
    "    transformed_hflip_rotate = transforms.functional.rotate(transformed_hflip_raw, angle=60)\n",
    "    transformed_hflip_rotate.save(path_raw_aug + '\\\\' + i.split('.')[0] + '_hflip_rotate.png')\n",
    "    "
   ]
  },
  {
   "cell_type": "code",
   "execution_count": 52,
   "id": "115e6463",
   "metadata": {
    "pycharm": {
     "name": "#%%\n"
    }
   },
   "outputs": [
    {
     "data": {
      "text/plain": [
       "11012"
      ]
     },
     "execution_count": 52,
     "metadata": {},
     "output_type": "execute_result"
    }
   ],
   "source": [
    "len(os.listdir(path_rgb_aug))"
   ]
  },
  {
   "cell_type": "code",
   "execution_count": 71,
   "id": "71b4d61a",
   "metadata": {
    "pycharm": {
     "name": "#%%\n"
    }
   },
   "outputs": [
    {
     "data": {
      "text/plain": [
       "1.219"
      ]
     },
     "execution_count": 71,
     "metadata": {},
     "output_type": "execute_result"
    }
   ],
   "source": [
    "list(df_json[df_json['dish'] == 'dish_1556573514']['carb'])[0]"
   ]
  },
  {
   "cell_type": "code",
   "execution_count": 73,
   "id": "ecc8c634",
   "metadata": {
    "pycharm": {
     "name": "#%%\n"
    }
   },
   "outputs": [],
   "source": [
    "json_aug = {}\n",
    "for i in os.listdir(path_rgb_aug):\n",
    "    json_aug[i.split('.')[0]] = float(list(df_json[df_json['dish'] == '_'.join(i.split('.')[0].split('_')[:2])]['carb'])[0])"
   ]
  },
  {
   "cell_type": "code",
   "execution_count": 74,
   "id": "bf46eb31",
   "metadata": {
    "pycharm": {
     "name": "#%%\n"
    }
   },
   "outputs": [
    {
     "data": {
      "text/plain": [
       "11012"
      ]
     },
     "execution_count": 74,
     "metadata": {},
     "output_type": "execute_result"
    }
   ],
   "source": [
    "len(json_aug)"
   ]
  },
  {
   "cell_type": "code",
   "execution_count": 76,
   "id": "b7f8cf84",
   "metadata": {
    "pycharm": {
     "name": "#%%\n"
    }
   },
   "outputs": [],
   "source": [
    "with open(\"C:\\\\Users\\\\Yulia\\\\Desktop\\\\carbs-count\\\\images\\\\json_aug.json\", 'w') as fp:\n",
    "    json.dump(json_aug, fp)"
   ]
  }
 ],
 "metadata": {
  "kernelspec": {
   "display_name": "Python 3 (ipykernel)",
   "language": "python",
   "name": "python3"
  },
  "language_info": {
   "codemirror_mode": {
    "name": "ipython",
    "version": 3
   },
   "file_extension": ".py",
   "mimetype": "text/x-python",
   "name": "python",
   "nbconvert_exporter": "python",
   "pygments_lexer": "ipython3",
   "version": "3.9.12"
  }
 },
 "nbformat": 4,
 "nbformat_minor": 5
}