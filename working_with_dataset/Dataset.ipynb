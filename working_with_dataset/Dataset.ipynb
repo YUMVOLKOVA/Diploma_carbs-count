{
 "cells": [
  {
   "cell_type": "markdown",
   "id": "c0a3026b",
   "metadata": {
    "pycharm": {
     "name": "#%% md\n"
    }
   },
   "source": [
    "# Подготовка данных"
   ]
  },
  {
   "cell_type": "markdown",
   "id": "1e0c33c5",
   "metadata": {
    "pycharm": {
     "name": "#%% md\n"
    }
   },
   "source": [
    "Скачать файл можно по ссылке [nutrition5k_dataset.tar.gz (181.4 GB)](https://github.com/google-research-datasets/Nutrition5k)"
   ]
  },
  {
   "cell_type": "markdown",
   "id": "1db11f2a",
   "metadata": {
    "pycharm": {
     "name": "#%% md\n"
    }
   },
   "source": [
    "Содержимое файла: \n",
    "- id блюд в формате txt (с разбивкой на train и test)\n",
    "- RGB фотографии блюд (одно фото на блюдо), карты глубины\n",
    "- видео блюд с четырех камер \n",
    "- csv файл с КБЖУ блюд"
   ]
  },
  {
   "cell_type": "markdown",
   "id": "92ba95e5",
   "metadata": {
    "pycharm": {
     "name": "#%% md\n"
    }
   },
   "source": [
    "Извлекаем все файлы кроме видео"
   ]
  },
  {
   "cell_type": "code",
   "execution_count": 11,
   "id": "68c5dd22",
   "metadata": {
    "pycharm": {
     "name": "#%%\n"
    }
   },
   "outputs": [],
   "source": [
    "import ffmpeg\n",
    "import tarfile\n",
    "import os\n",
    "from tqdm import tqdm_notebook as tqdm"
   ]
  },
  {
   "cell_type": "code",
   "execution_count": 2,
   "id": "569ffc32",
   "metadata": {
    "pycharm": {
     "name": "#%%\n"
    }
   },
   "outputs": [],
   "source": [
    "def x_files(members):\n",
    "    for tarinfo in members:\n",
    "        if os.path.splitext(tarinfo.name)[1] == \".txt\" or \\\n",
    "            os.path.splitext(tarinfo.name)[1] == \".csv\" or \\\n",
    "            os.path.splitext(tarinfo.name)[1] == \".py\" or \\\n",
    "            os.path.splitext(tarinfo.name)[1] == \".sh\" or \\\n",
    "            os.path.splitext(tarinfo.name)[1] == \".png\":\n",
    "            yield tarinfo\n",
    "            \n",
    "\n",
    "# tar = tarfile.open('nutrition5k_dataset.tar', 'r:gz')\n",
    "# tar.extractall(members=x_files(tar))\n",
    "# tar.close()\n"
   ]
  },
  {
   "cell_type": "markdown",
   "id": "51c3cd38",
   "metadata": {
    "pycharm": {
     "name": "#%% md\n"
    }
   },
   "source": [
    "Попробуем достать каждый пятый кадр в каждом видео (для каждого блюда представлено 4 видео с разных камер)"
   ]
  },
  {
   "cell_type": "code",
   "execution_count": 3,
   "id": "1cd0a8bd",
   "metadata": {
    "pycharm": {
     "name": "#%%\n"
    }
   },
   "outputs": [],
   "source": [
    "tar = tarfile.open('nutrition5k_dataset.tar', 'r:gz')"
   ]
  },
  {
   "cell_type": "code",
   "execution_count": 4,
   "id": "1ace9ee4",
   "metadata": {
    "pycharm": {
     "name": "#%%\n"
    }
   },
   "outputs": [],
   "source": [
    "list_of_file_names = tar.getmembers()"
   ]
  },
  {
   "cell_type": "code",
   "execution_count": 8,
   "id": "8fa8a832",
   "metadata": {
    "pycharm": {
     "name": "#%%\n"
    }
   },
   "outputs": [
    {
     "data": {
      "text/plain": [
       "37478"
      ]
     },
     "execution_count": 8,
     "metadata": {},
     "output_type": "execute_result"
    }
   ],
   "source": [
    "file_names = [list_of_file_names[i].name for i in range(len(list_of_file_names))]\n",
    "len(file_names)"
   ]
  },
  {
   "cell_type": "code",
   "execution_count": 20,
   "id": "a3aec7f1",
   "metadata": {
    "pycharm": {
     "name": "#%%\n"
    }
   },
   "outputs": [
    {
     "name": "stderr",
     "output_type": "stream",
     "text": [
      "C:\\Users\\Yulia\\AppData\\Local\\Temp\\ipykernel_14296\\969829498.py:1: TqdmDeprecationWarning: This function will be removed in tqdm==5.0.0\n",
      "Please use `tqdm.notebook.tqdm` instead of `tqdm.tqdm_notebook`\n",
      "  for i in tqdm(range(15386, len(file_names))):\n"
     ]
    },
    {
     "data": {
      "application/vnd.jupyter.widget-view+json": {
       "model_id": "bc9f79d1bd02495aa8c388892012d6bc",
       "version_major": 2,
       "version_minor": 0
      },
      "text/plain": [
       "  0%|          | 0/22092 [00:00<?, ?it/s]"
      ]
     },
     "metadata": {},
     "output_type": "display_data"
    },
    {
     "name": "stdout",
     "output_type": "stream",
     "text": [
      "error: 15386 nutrition5k_dataset/imagery/side_angles/dish_1560368815/camera_D.h264\n"
     ]
    }
   ],
   "source": [
    "for i in tqdm(range(0, len(file_names))):\n",
    "    if '.h264' in file_names[i]:\n",
    "        url = file_names[i]\n",
    "        tar.extract(list_of_file_names[i])\n",
    "        probe = ffmpeg.probe(filename=url)\n",
    "        width = probe['streams'][0]['width']\n",
    "        try:\n",
    "            ffmpeg.input(url).filter('scale', width, -1).output(url.split('.')[0]+'_frame_%03d.jpeg').run()\n",
    "            cur_dir = '/'.join(url.split('/')[:-1])\n",
    "            arr = os.listdir(cur_dir)\n",
    "            for i in arr:\n",
    "                if i.split('.')[0][-1] != '5':\n",
    "                    os.remove(cur_dir+'/' + i)\n",
    "        except:\n",
    "            print('error:', i, file_names[i])\n",
    "        \n",
    "        \n",
    "        "
   ]
  }
 ],
 "metadata": {
  "kernelspec": {
   "display_name": "Python 3 (ipykernel)",
   "language": "python",
   "name": "python3"
  },
  "language_info": {
   "codemirror_mode": {
    "name": "ipython",
    "version": 3
   },
   "file_extension": ".py",
   "mimetype": "text/x-python",
   "name": "python",
   "nbconvert_exporter": "python",
   "pygments_lexer": "ipython3",
   "version": "3.9.12"
  }
 },
 "nbformat": 4,
 "nbformat_minor": 5
}