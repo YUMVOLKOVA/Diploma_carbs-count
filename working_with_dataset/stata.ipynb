{
 "cells": [
  {
   "cell_type": "code",
   "execution_count": 49,
   "id": "5a940f34",
   "metadata": {},
   "outputs": [],
   "source": [
    "import json\n",
    "import pandas as pd"
   ]
  },
  {
   "cell_type": "code",
   "execution_count": 24,
   "id": "0a034320",
   "metadata": {},
   "outputs": [
    {
     "data": {
      "text/plain": [
       "count    2260.000000\n",
       "mean       20.043295\n",
       "std        17.700089\n",
       "min         0.000000\n",
       "25%         5.480000\n",
       "50%        15.496128\n",
       "75%        29.413998\n",
       "max        85.809998\n",
       "Name: 0, dtype: float64"
      ]
     },
     "execution_count": 24,
     "metadata": {},
     "output_type": "execute_result"
    }
   ],
   "source": [
    "with open(\"C:\\\\Users\\\\Yulia\\\\Desktop\\\\carbs-count\\\\images\\\\json_test_rgb_depth.json\") as json_file:\n",
    "    json_test_rgb_depth = json.load(json_file)\n",
    "json_test_rgb_depth = pd.DataFrame(json_test_rgb_depth.values())\n",
    "json_test_rgb_depth[0].describe()"
   ]
  },
  {
   "cell_type": "code",
   "execution_count": 25,
   "id": "667fa1eb",
   "metadata": {},
   "outputs": [
    {
     "data": {
      "text/plain": [
       "count    111772.000000\n",
       "mean         13.777601\n",
       "std          13.515347\n",
       "min           0.000000\n",
       "25%           4.230000\n",
       "50%          10.333097\n",
       "75%          19.185001\n",
       "max         150.316010\n",
       "Name: 0, dtype: float64"
      ]
     },
     "execution_count": 25,
     "metadata": {},
     "output_type": "execute_result"
    }
   ],
   "source": [
    "with open(\"C:\\\\Users\\\\Yulia\\\\Desktop\\\\carbs-count\\\\images\\\\json_train.json\") as json_file:\n",
    "    json_train = json.load(json_file)\n",
    "json_train = pd.DataFrame(json_train.values())\n",
    "json_train[0].describe()"
   ]
  },
  {
   "cell_type": "code",
   "execution_count": 26,
   "id": "9a3cf67a",
   "metadata": {},
   "outputs": [
    {
     "data": {
      "text/plain": [
       "count    17629.000000\n",
       "mean        16.829428\n",
       "std         15.092706\n",
       "min          0.000000\n",
       "25%          5.310000\n",
       "50%         12.650001\n",
       "75%         23.957001\n",
       "max        150.316010\n",
       "Name: 0, dtype: float64"
      ]
     },
     "execution_count": 26,
     "metadata": {},
     "output_type": "execute_result"
    }
   ],
   "source": [
    "with open(\"C:\\\\Users\\\\Yulia\\\\Desktop\\\\carbs-count\\\\images\\\\json_train_005.json\") as json_file:\n",
    "    json_train_005 = json.load(json_file)\n",
    "json_train_005 = pd.DataFrame(json_train_005.values())\n",
    "json_train_005[0].describe()"
   ]
  },
  {
   "cell_type": "code",
   "execution_count": 27,
   "id": "14367966",
   "metadata": {},
   "outputs": [
    {
     "data": {
      "text/plain": [
       "count    12516.000000\n",
       "mean        18.801743\n",
       "std         15.655927\n",
       "min          0.000000\n",
       "25%          6.330505\n",
       "50%         15.127676\n",
       "75%         26.886663\n",
       "max        101.256134\n",
       "Name: 0, dtype: float64"
      ]
     },
     "execution_count": 27,
     "metadata": {},
     "output_type": "execute_result"
    }
   ],
   "source": [
    "with open(\"C:\\\\Users\\\\Yulia\\\\Desktop\\\\carbs-count\\\\images\\\\json_train_rgb_depth.json\") as json_file:\n",
    "    json_train_rgb_depth = json.load(json_file)\n",
    "json_train_rgb_depth = pd.DataFrame(json_train_rgb_depth.values())\n",
    "json_train_rgb_depth[0].describe()"
   ]
  },
  {
   "cell_type": "code",
   "execution_count": 28,
   "id": "7a2423d9",
   "metadata": {},
   "outputs": [
    {
     "data": {
      "text/plain": [
       "count    507.000000\n",
       "mean      19.683595\n",
       "std       17.439273\n",
       "min        0.000000\n",
       "25%        4.975000\n",
       "50%       15.370001\n",
       "75%       28.118769\n",
       "max       85.809998\n",
       "Name: 0, dtype: float64"
      ]
     },
     "execution_count": 28,
     "metadata": {},
     "output_type": "execute_result"
    }
   ],
   "source": [
    "with open(\"C:\\\\Users\\\\Yulia\\\\Desktop\\\\carbs-count\\\\images\\\\json_depth_test.json\") as json_file:\n",
    "    json_depth_test = json.load(json_file)\n",
    "json_depth_test = pd.DataFrame(json_depth_test.values())\n",
    "json_depth_test[0].describe()"
   ]
  },
  {
   "cell_type": "code",
   "execution_count": 48,
   "id": "5115e638",
   "metadata": {},
   "outputs": [
    {
     "data": {
      "text/plain": [
       "count    2753.000000\n",
       "mean       19.036714\n",
       "std        15.797513\n",
       "min         0.000000\n",
       "25%         6.338270\n",
       "50%        15.360000\n",
       "75%        27.507641\n",
       "max       101.256134\n",
       "Name: 0, dtype: float64"
      ]
     },
     "execution_count": 48,
     "metadata": {},
     "output_type": "execute_result"
    }
   ],
   "source": [
    "with open(\"C:\\\\Users\\\\Yulia\\\\Desktop\\\\carbs-count\\\\images\\\\json_depth_train.json\") as json_file:\n",
    "    json_depth_train = json.load(json_file)\n",
    "json_depth_train = pd.DataFrame(json_depth_train.values())\n",
    "json_depth_train[0].describe()"
   ]
  },
  {
   "cell_type": "code",
   "execution_count": 43,
   "id": "0eef0236",
   "metadata": {},
   "outputs": [],
   "source": [
    "with open(\"C:\\\\Users\\\\Yulia\\\\Desktop\\\\carbs-count\\\\images\\\\json_depth_train.json\") as json_file:\n",
    "    json_depth_train = json.load(json_file)\n",
    "# json_depth_train = pd.DataFrame({'dish': json_depth_train.keys(),'carb' : json_depth_train.values()})\n",
    "# json_depth_train"
   ]
  },
  {
   "cell_type": "code",
   "execution_count": 41,
   "id": "7be52401",
   "metadata": {},
   "outputs": [
    {
     "data": {
      "text/html": [
       "<div>\n",
       "<style scoped>\n",
       "    .dataframe tbody tr th:only-of-type {\n",
       "        vertical-align: middle;\n",
       "    }\n",
       "\n",
       "    .dataframe tbody tr th {\n",
       "        vertical-align: top;\n",
       "    }\n",
       "\n",
       "    .dataframe thead th {\n",
       "        text-align: right;\n",
       "    }\n",
       "</style>\n",
       "<table border=\"1\" class=\"dataframe\">\n",
       "  <thead>\n",
       "    <tr style=\"text-align: right;\">\n",
       "      <th></th>\n",
       "      <th>dish</th>\n",
       "      <th>carb</th>\n",
       "    </tr>\n",
       "  </thead>\n",
       "  <tbody>\n",
       "    <tr>\n",
       "      <th>874</th>\n",
       "      <td>dish_1560974769</td>\n",
       "      <td>844.568604</td>\n",
       "    </tr>\n",
       "    <tr>\n",
       "      <th>1124</th>\n",
       "      <td>dish_1561739805</td>\n",
       "      <td>101.256134</td>\n",
       "    </tr>\n",
       "    <tr>\n",
       "      <th>1216</th>\n",
       "      <td>dish_1562012076</td>\n",
       "      <td>100.683945</td>\n",
       "    </tr>\n",
       "  </tbody>\n",
       "</table>\n",
       "</div>"
      ],
      "text/plain": [
       "                 dish        carb\n",
       "874   dish_1560974769  844.568604\n",
       "1124  dish_1561739805  101.256134\n",
       "1216  dish_1562012076  100.683945"
      ]
     },
     "execution_count": 41,
     "metadata": {},
     "output_type": "execute_result"
    }
   ],
   "source": [
    "json_depth_train[json_depth_train['carb']>100]"
   ]
  },
  {
   "cell_type": "code",
   "execution_count": 32,
   "id": "777c26e3",
   "metadata": {},
   "outputs": [
    {
     "data": {
      "text/html": [
       "<div>\n",
       "<style scoped>\n",
       "    .dataframe tbody tr th:only-of-type {\n",
       "        vertical-align: middle;\n",
       "    }\n",
       "\n",
       "    .dataframe tbody tr th {\n",
       "        vertical-align: top;\n",
       "    }\n",
       "\n",
       "    .dataframe thead th {\n",
       "        text-align: right;\n",
       "    }\n",
       "</style>\n",
       "<table border=\"1\" class=\"dataframe\">\n",
       "  <thead>\n",
       "    <tr style=\"text-align: right;\">\n",
       "      <th></th>\n",
       "      <th>0</th>\n",
       "    </tr>\n",
       "  </thead>\n",
       "  <tbody>\n",
       "    <tr>\n",
       "      <th>874</th>\n",
       "      <td>844.568604</td>\n",
       "    </tr>\n",
       "    <tr>\n",
       "      <th>1124</th>\n",
       "      <td>101.256134</td>\n",
       "    </tr>\n",
       "    <tr>\n",
       "      <th>1216</th>\n",
       "      <td>100.683945</td>\n",
       "    </tr>\n",
       "  </tbody>\n",
       "</table>\n",
       "</div>"
      ],
      "text/plain": [
       "               0\n",
       "874   844.568604\n",
       "1124  101.256134\n",
       "1216  100.683945"
      ]
     },
     "execution_count": 32,
     "metadata": {},
     "output_type": "execute_result"
    }
   ],
   "source": [
    "json_depth_train[json_depth_train[0] > 100]"
   ]
  },
  {
   "cell_type": "code",
   "execution_count": 45,
   "id": "6f7b4bb7",
   "metadata": {},
   "outputs": [],
   "source": [
    "del json_depth_train['dish_1560974769']"
   ]
  },
  {
   "cell_type": "code",
   "execution_count": 46,
   "id": "6129fa9f",
   "metadata": {},
   "outputs": [
    {
     "data": {
      "text/plain": [
       "2753"
      ]
     },
     "execution_count": 46,
     "metadata": {},
     "output_type": "execute_result"
    }
   ],
   "source": [
    "len(json_depth_train)"
   ]
  },
  {
   "cell_type": "code",
   "execution_count": 47,
   "id": "2449aece",
   "metadata": {},
   "outputs": [],
   "source": [
    "with open(\"C:\\\\Users\\\\Yulia\\\\Desktop\\\\carbs-count\\\\images\\\\json_depth_train.json\", 'w') as fp:\n",
    "    json.dump(json_depth_train, fp)"
   ]
  },
  {
   "cell_type": "code",
   "execution_count": 30,
   "id": "524bac6e",
   "metadata": {},
   "outputs": [
    {
     "data": {
      "text/plain": [
       "count    18294.000000\n",
       "mean        14.692369\n",
       "std         16.501369\n",
       "min          0.000000\n",
       "25%          3.304000\n",
       "50%          9.660000\n",
       "75%         20.976000\n",
       "max        150.316010\n",
       "Name: 0, dtype: float64"
      ]
     },
     "execution_count": 30,
     "metadata": {},
     "output_type": "execute_result"
    }
   ],
   "source": [
    "with open(\"C:\\\\Users\\\\Yulia\\\\Desktop\\\\carbs-count\\\\images\\\\json_test.json\") as json_file:\n",
    "    json_test = json.load(json_file)\n",
    "json_test = pd.DataFrame(json_test.values())\n",
    "json_test[0].describe()"
   ]
  },
  {
   "cell_type": "code",
   "execution_count": 31,
   "id": "c5f0a43a",
   "metadata": {},
   "outputs": [
    {
     "data": {
      "text/plain": [
       "count    3056.000000\n",
       "mean       18.092850\n",
       "std        17.369637\n",
       "min         0.000000\n",
       "25%         4.450000\n",
       "50%        13.247999\n",
       "75%        25.969257\n",
       "max       150.316010\n",
       "Name: 0, dtype: float64"
      ]
     },
     "execution_count": 31,
     "metadata": {},
     "output_type": "execute_result"
    }
   ],
   "source": [
    "with open(\"C:\\\\Users\\\\Yulia\\\\Desktop\\\\carbs-count\\\\images\\\\json_test_005.json\") as json_file:\n",
    "    json_test_005 = json.load(json_file)\n",
    "json_test_005 = pd.DataFrame(json_test_005.values())\n",
    "json_test_005[0].describe()"
   ]
  },
  {
   "cell_type": "code",
   "execution_count": 50,
   "id": "6611bfea",
   "metadata": {},
   "outputs": [
    {
     "data": {
      "text/plain": [
       "count    11012.000000\n",
       "mean        19.036714\n",
       "std         15.795361\n",
       "min          0.000000\n",
       "25%          6.338270\n",
       "50%         15.360000\n",
       "75%         27.507641\n",
       "max        101.256134\n",
       "Name: 0, dtype: float64"
      ]
     },
     "execution_count": 50,
     "metadata": {},
     "output_type": "execute_result"
    }
   ],
   "source": [
    "with open(\"C:\\\\Users\\\\Yulia\\\\Desktop\\\\carbs-count\\\\images\\\\json_aug.json\") as json_file:\n",
    "    json_aug = json.load(json_file)\n",
    "json_aug = pd.DataFrame(json_aug.values())\n",
    "json_aug[0].describe()"
   ]
  }
 ],
 "metadata": {
  "kernelspec": {
   "display_name": "Python 3 (ipykernel)",
   "language": "python",
   "name": "python3"
  },
  "language_info": {
   "codemirror_mode": {
    "name": "ipython",
    "version": 3
   },
   "file_extension": ".py",
   "mimetype": "text/x-python",
   "name": "python",
   "nbconvert_exporter": "python",
   "pygments_lexer": "ipython3",
   "version": "3.9.12"
  }
 },
 "nbformat": 4,
 "nbformat_minor": 5
}
