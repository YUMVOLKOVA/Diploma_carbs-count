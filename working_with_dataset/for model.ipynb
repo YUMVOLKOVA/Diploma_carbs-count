{
 "cells": [
  {
   "cell_type": "code",
   "execution_count": 1,
   "id": "b1e6fc14",
   "metadata": {},
   "outputs": [],
   "source": [
    "import torch\n",
    "import torch.nn as nn\n",
    "from torchvision import models\n",
    "\n",
    "model = getattr(models, 'densenet121')(pretrained=True)"
   ]
  },
  {
   "cell_type": "code",
   "execution_count": 8,
   "id": "8b9c95ed",
   "metadata": {},
   "outputs": [
    {
     "data": {
      "text/plain": [
       "Conv2d(3, 64, kernel_size=(7, 7), stride=(2, 2), padding=(3, 3), bias=False)"
      ]
     },
     "execution_count": 8,
     "metadata": {},
     "output_type": "execute_result"
    }
   ],
   "source": [
    "model.features.conv0"
   ]
  },
  {
   "cell_type": "code",
   "execution_count": 3,
   "id": "0e204110",
   "metadata": {},
   "outputs": [],
   "source": [
    "weight = model.conv1.weight.clone()\n",
    "model.conv1 = nn.Conv2d(6, 64, kernel_size=7, stride=2, padding=3, bias=False)\n",
    "# with torch.no_grad():\n",
    "#     model.conv1.weight[:, :3] = weight\n",
    "#     model.conv1.weight[:, 3] = model.conv1.weight[:, 0]"
   ]
  },
  {
   "cell_type": "code",
   "execution_count": 12,
   "id": "4b60813c",
   "metadata": {},
   "outputs": [],
   "source": [
    "count = 1\n",
    "for param in model.parameters():\n",
    "    if count == 1:\n",
    "        param.requires_grad = True\n",
    "        count += 1\n",
    "    else:\n",
    "        param.requires_grad = False"
   ]
  },
  {
   "cell_type": "code",
   "execution_count": 15,
   "id": "57672a4d",
   "metadata": {},
   "outputs": [
    {
     "data": {
      "text/plain": [
       "False"
      ]
     },
     "execution_count": 15,
     "metadata": {},
     "output_type": "execute_result"
    }
   ],
   "source": [
    "model.bn1.weight.requires_grad"
   ]
  }
 ],
 "metadata": {
  "kernelspec": {
   "display_name": "Python 3 (ipykernel)",
   "language": "python",
   "name": "python3"
  },
  "language_info": {
   "codemirror_mode": {
    "name": "ipython",
    "version": 3
   },
   "file_extension": ".py",
   "mimetype": "text/x-python",
   "name": "python",
   "nbconvert_exporter": "python",
   "pygments_lexer": "ipython3",
   "version": "3.9.12"
  }
 },
 "nbformat": 4,
 "nbformat_minor": 5
}
