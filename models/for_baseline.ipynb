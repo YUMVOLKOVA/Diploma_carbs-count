{
 "cells": [
  {
   "cell_type": "markdown",
   "id": "c5566e6a",
   "metadata": {},
   "source": [
    "**mean baseline**: always predicts the value that is the average value in the dataset "
   ]
  },
  {
   "cell_type": "code",
   "execution_count": 1,
   "id": "7736c931",
   "metadata": {},
   "outputs": [],
   "source": [
    "from pathlib import Path\n",
    "import json\n",
    "import numpy as np\n",
    "import argparse\n",
    "import random\n",
    "import torch\n",
    "import torch.nn as nn"
   ]
  },
  {
   "cell_type": "code",
   "execution_count": null,
   "id": "380c1f53",
   "metadata": {},
   "outputs": [],
   "source": [
    "# parser = argparse.ArgumentParser()\n",
    "# parser.add_argument(\"--runname\", help=\"name this experiment\", required=True)\n",
    "# parser.add_argument(\"--carbs_file_train\",\n",
    "#                     help=\"input data dir\",\n",
    "#                     required=True)\n",
    "# parser.add_argument(\"--carbs_file_test\",\n",
    "#                     help=\"input data dir\",\n",
    "#                     required=True)\n",
    "# parser.add_argument(\"--image_dir_train\",\n",
    "#                     help=\"input data dir\",\n",
    "#                     required=True)\n",
    "# parser.add_argument(\"--image_dir_test\",\n",
    "#                     help=\"input data dir\",\n",
    "#                     required=True)\n",
    "# args = parser.parse_args()\n",
    "\n",
    "# carbs_file_train = args.carbs_file_train\n",
    "# carbs_file_test = args.carbs_file_test\n",
    "# image_dir_train = args.image_dir_train\n",
    "# image_dir_test = args.image_dir_test"
   ]
  },
  {
   "cell_type": "code",
   "execution_count": 2,
   "id": "83146223",
   "metadata": {},
   "outputs": [],
   "source": [
    "carbs_file_train = \"C:\\\\Users\\\\Yulia\\\\Desktop\\\\Carbohydrate-counting\\\\working_with_dataset\\\\json_train.json\"\n",
    "carbs_file_test = \"C:\\\\Users\\\\Yulia\\\\Desktop\\\\Carbohydrate-counting\\\\working_with_dataset\\\\json_test.json\"\n",
    "image_dir_train = \"C:\\\\Users\\\\Yulia\\\\Desktop\\\\Carbohydrate-counting\\\\images\\\\train\"\n",
    "image_dir_test = \"C:\\\\Users\\\\Yulia\\\\Desktop\\\\Carbohydrate-counting\\\\images\\\\test\""
   ]
  },
  {
   "cell_type": "code",
   "execution_count": 3,
   "id": "8595fccb",
   "metadata": {},
   "outputs": [],
   "source": [
    "with open(carbs_file_train) as f:\n",
    "    train = json.load(f)\n",
    "    \n",
    "with open(carbs_file_test) as f:\n",
    "    test = json.load(f)"
   ]
  },
  {
   "cell_type": "code",
   "execution_count": 4,
   "id": "ad836149",
   "metadata": {},
   "outputs": [
    {
     "name": "stdout",
     "output_type": "stream",
     "text": [
      "train_array_mean: 13.777600590559352\n"
     ]
    }
   ],
   "source": [
    "train_array = [train[i] for i in train]\n",
    "train_array_mean = np.mean(train_array)\n",
    "print(f'train_array_mean: {train_array_mean}')"
   ]
  },
  {
   "cell_type": "code",
   "execution_count": 5,
   "id": "c743f5ed",
   "metadata": {},
   "outputs": [
    {
     "name": "stdout",
     "output_type": "stream",
     "text": [
      "train_array_std: 13.515286242347253\n"
     ]
    }
   ],
   "source": [
    "train_array_std = np.std(train_array)\n",
    "print(f'train_array_std: {train_array_std}')"
   ]
  },
  {
   "cell_type": "code",
   "execution_count": 6,
   "id": "545e44f5",
   "metadata": {},
   "outputs": [
    {
     "name": "stdout",
     "output_type": "stream",
     "text": [
      "test_array_mean: 14.692369329397614\n"
     ]
    }
   ],
   "source": [
    "test_array = [test[i] for i in test]\n",
    "test_array_mean = np.mean(test_array)\n",
    "print(f'test_array_mean: {test_array_mean}')"
   ]
  },
  {
   "cell_type": "code",
   "execution_count": 7,
   "id": "535b383a",
   "metadata": {},
   "outputs": [
    {
     "name": "stdout",
     "output_type": "stream",
     "text": [
      "test_array_std: 16.500917690980152\n"
     ]
    }
   ],
   "source": [
    "test_array_std = np.std(test_array)\n",
    "print(f'test_array_std: {test_array_std}')"
   ]
  },
  {
   "cell_type": "code",
   "execution_count": 8,
   "id": "54163b6d",
   "metadata": {},
   "outputs": [],
   "source": [
    "def baseline_model(values):\n",
    "    mean = np.mean(values)\n",
    "\n",
    "    def model():\n",
    "        return mean\n",
    "\n",
    "    return model"
   ]
  },
  {
   "cell_type": "code",
   "execution_count": 9,
   "id": "3f28c022",
   "metadata": {},
   "outputs": [],
   "source": [
    "baseline = baseline_model(train_array)"
   ]
  },
  {
   "cell_type": "code",
   "execution_count": 11,
   "id": "a4d1c850",
   "metadata": {},
   "outputs": [
    {
     "data": {
      "text/plain": [
       "13.777600590559352"
      ]
     },
     "execution_count": 11,
     "metadata": {},
     "output_type": "execute_result"
    }
   ],
   "source": [
    "baseline()"
   ]
  },
  {
   "cell_type": "code",
   "execution_count": 12,
   "id": "5b42080b",
   "metadata": {},
   "outputs": [],
   "source": [
    "def calculate_loss(y, y_hat):\n",
    "    loss = []\n",
    "    for i in y:\n",
    "        loss.append(i-y_hat)\n",
    "    output = np.mean(np.abs(loss))       \n",
    "\n",
    "    return output"
   ]
  },
  {
   "cell_type": "code",
   "execution_count": 13,
   "id": "6c16740b",
   "metadata": {},
   "outputs": [],
   "source": [
    "loss_train = calculate_loss(train_array, baseline())"
   ]
  },
  {
   "cell_type": "code",
   "execution_count": 14,
   "id": "f2eb6f06",
   "metadata": {},
   "outputs": [],
   "source": [
    "loss_test = calculate_loss(test_array, baseline())"
   ]
  },
  {
   "cell_type": "code",
   "execution_count": 16,
   "id": "b2e89a7d",
   "metadata": {},
   "outputs": [
    {
     "name": "stdout",
     "output_type": "stream",
     "text": [
      "baseline loss for train: 9.904774574212247,\n",
      "baseline loss for test: 11.491616660246606\n"
     ]
    }
   ],
   "source": [
    "print(f'''baseline loss for train: {loss_train},\n",
    "baseline loss for test: {loss_test}''')"
   ]
  }
 ],
 "metadata": {
  "kernelspec": {
   "display_name": "Python 3 (ipykernel)",
   "language": "python",
   "name": "python3"
  },
  "language_info": {
   "codemirror_mode": {
    "name": "ipython",
    "version": 3
   },
   "file_extension": ".py",
   "mimetype": "text/x-python",
   "name": "python",
   "nbconvert_exporter": "python",
   "pygments_lexer": "ipython3",
   "version": "3.9.12"
  }
 },
 "nbformat": 4,
 "nbformat_minor": 5
}
